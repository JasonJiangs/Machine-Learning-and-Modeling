{
 "cells": [
  {
   "cell_type": "markdown",
   "id": "185a42d1",
   "metadata": {},
   "source": [
    "# Package Imported"
   ]
  },
  {
   "cell_type": "code",
   "execution_count": 1,
   "id": "dd737ff1",
   "metadata": {},
   "outputs": [],
   "source": [
    "# Basic packages\n",
    "import numpy as np\n",
    "import pandas as pd\n",
    "import math\n",
    "from termcolor import colored as cl\n",
    "\n",
    "# Machine Learning\n",
    "from sklearn import tree\n",
    "from sklearn.tree import DecisionTreeClassifier\n",
    "from sklearn.cluster import KMeans\n",
    "from sklearn.decomposition import PCA\n",
    "from sklearn.neighbors import KNeighborsClassifier\n",
    "from sklearn.svm import SVC\n",
    "from sklearn import svm\n",
    "from sklearn.linear_model import LinearRegression\n",
    "from sklearn.model_selection import train_test_split\n",
    "from sklearn.preprocessing import StandardScaler\n",
    "from __future__ import print_function, division\n",
    "\n",
    "# Model Evaluation\n",
    "from sklearn.metrics import accuracy_score\n",
    "from sklearn import metrics\n",
    "from sklearn.metrics import mean_squared_error\n",
    "from sklearn.metrics import classification_report, confusion_matrix\n",
    "\n",
    "# Visualization\n",
    "import matplotlib.pyplot as plt\n",
    "from matplotlib import style\n",
    "import matplotlib as mpl\n",
    "from mpl_toolkits.mplot3d import Axes3D\n",
    "from sklearn.tree import export_graphviz\n",
    "import seaborn as sns\n",
    "from pyecharts import options as opts\n",
    "from pyecharts.charts import Liquid\n",
    "style.use('seaborn-whitegrid')\n",
    "plt.rcParams['figure.figsize'] = (20,10)\n",
    "sns.set_style(\"white\")\n",
    "%matplotlib inline"
   ]
  },
  {
   "cell_type": "markdown",
   "id": "74a9a148",
   "metadata": {},
   "source": [
    "# Data Visualization & Analysis"
   ]
  },
  {
   "cell_type": "code",
   "execution_count": 2,
   "id": "b2567518",
   "metadata": {},
   "outputs": [
    {
     "data": {
      "text/html": [
       "<div>\n",
       "<style scoped>\n",
       "    .dataframe tbody tr th:only-of-type {\n",
       "        vertical-align: middle;\n",
       "    }\n",
       "\n",
       "    .dataframe tbody tr th {\n",
       "        vertical-align: top;\n",
       "    }\n",
       "\n",
       "    .dataframe thead th {\n",
       "        text-align: right;\n",
       "    }\n",
       "</style>\n",
       "<table border=\"1\" class=\"dataframe\">\n",
       "  <thead>\n",
       "    <tr style=\"text-align: right;\">\n",
       "      <th></th>\n",
       "      <th>Region</th>\n",
       "      <th>Region_CN</th>\n",
       "      <th>Gross Output Value(100 million yuan)</th>\n",
       "      <th>Farming</th>\n",
       "      <th>Forestry</th>\n",
       "      <th>Animal Husbandry</th>\n",
       "      <th>Fishery</th>\n",
       "      <th>Indices of Gross Output (preceding year=100)</th>\n",
       "      <th>Farming.1</th>\n",
       "      <th>Forestry.1</th>\n",
       "      <th>Animal Husbandry.1</th>\n",
       "      <th>Fishery.1</th>\n",
       "    </tr>\n",
       "  </thead>\n",
       "  <tbody>\n",
       "    <tr>\n",
       "      <th>0</th>\n",
       "      <td>Beijing</td>\n",
       "      <td>北京</td>\n",
       "      <td>281.7</td>\n",
       "      <td>102.3</td>\n",
       "      <td>115.6</td>\n",
       "      <td>49.3</td>\n",
       "      <td>5.3</td>\n",
       "      <td>93.7</td>\n",
       "      <td>89.2</td>\n",
       "      <td>121.6</td>\n",
       "      <td>63.5</td>\n",
       "      <td>86.2</td>\n",
       "    </tr>\n",
       "    <tr>\n",
       "      <th>1</th>\n",
       "      <td>Tianjin</td>\n",
       "      <td>天津</td>\n",
       "      <td>414.4</td>\n",
       "      <td>202.9</td>\n",
       "      <td>24.9</td>\n",
       "      <td>100.4</td>\n",
       "      <td>71.4</td>\n",
       "      <td>100.6</td>\n",
       "      <td>103.2</td>\n",
       "      <td>195.8</td>\n",
       "      <td>83.5</td>\n",
       "      <td>97.9</td>\n",
       "    </tr>\n",
       "    <tr>\n",
       "      <th>2</th>\n",
       "      <td>Hebei</td>\n",
       "      <td>河北</td>\n",
       "      <td>6061.5</td>\n",
       "      <td>3114.9</td>\n",
       "      <td>231.4</td>\n",
       "      <td>2035.4</td>\n",
       "      <td>212.5</td>\n",
       "      <td>101.9</td>\n",
       "      <td>101.7</td>\n",
       "      <td>104.8</td>\n",
       "      <td>100.4</td>\n",
       "      <td>100.6</td>\n",
       "    </tr>\n",
       "    <tr>\n",
       "      <th>3</th>\n",
       "      <td>Shanxi</td>\n",
       "      <td>山西</td>\n",
       "      <td>1626.5</td>\n",
       "      <td>936.8</td>\n",
       "      <td>101.3</td>\n",
       "      <td>478.6</td>\n",
       "      <td>6.9</td>\n",
       "      <td>102.0</td>\n",
       "      <td>102.5</td>\n",
       "      <td>102.2</td>\n",
       "      <td>100.7</td>\n",
       "      <td>100.2</td>\n",
       "    </tr>\n",
       "    <tr>\n",
       "      <th>4</th>\n",
       "      <td>Neimenggu</td>\n",
       "      <td>内蒙古</td>\n",
       "      <td>3176.3</td>\n",
       "      <td>1606.3</td>\n",
       "      <td>100.9</td>\n",
       "      <td>1390.5</td>\n",
       "      <td>27.8</td>\n",
       "      <td>102.1</td>\n",
       "      <td>103.4</td>\n",
       "      <td>101.0</td>\n",
       "      <td>100.9</td>\n",
       "      <td>93.3</td>\n",
       "    </tr>\n",
       "    <tr>\n",
       "      <th>5</th>\n",
       "      <td>Liaoning</td>\n",
       "      <td>辽宁</td>\n",
       "      <td>4368.2</td>\n",
       "      <td>1912.0</td>\n",
       "      <td>117.4</td>\n",
       "      <td>1479.5</td>\n",
       "      <td>669.6</td>\n",
       "      <td>103.0</td>\n",
       "      <td>105.6</td>\n",
       "      <td>85.3</td>\n",
       "      <td>101.4</td>\n",
       "      <td>104.5</td>\n",
       "    </tr>\n",
       "    <tr>\n",
       "      <th>6</th>\n",
       "      <td>Jilin</td>\n",
       "      <td>吉林</td>\n",
       "      <td>2442.7</td>\n",
       "      <td>1014.1</td>\n",
       "      <td>68.1</td>\n",
       "      <td>1239.6</td>\n",
       "      <td>40.1</td>\n",
       "      <td>102.3</td>\n",
       "      <td>105.5</td>\n",
       "      <td>94.5</td>\n",
       "      <td>99.7</td>\n",
       "      <td>102.7</td>\n",
       "    </tr>\n",
       "    <tr>\n",
       "      <th>7</th>\n",
       "      <td>Heilongjiang</td>\n",
       "      <td>黑龙江</td>\n",
       "      <td>5930.0</td>\n",
       "      <td>3774.5</td>\n",
       "      <td>193.9</td>\n",
       "      <td>1671.8</td>\n",
       "      <td>123.1</td>\n",
       "      <td>102.5</td>\n",
       "      <td>102.5</td>\n",
       "      <td>105.1</td>\n",
       "      <td>101.7</td>\n",
       "      <td>103.9</td>\n",
       "    </tr>\n",
       "    <tr>\n",
       "      <th>8</th>\n",
       "      <td>Shanghai</td>\n",
       "      <td>上海</td>\n",
       "      <td>284.8</td>\n",
       "      <td>145.8</td>\n",
       "      <td>18.3</td>\n",
       "      <td>48.2</td>\n",
       "      <td>55.0</td>\n",
       "      <td>92.7</td>\n",
       "      <td>92.2</td>\n",
       "      <td>111.4</td>\n",
       "      <td>80.9</td>\n",
       "      <td>100.1</td>\n",
       "    </tr>\n",
       "    <tr>\n",
       "      <th>9</th>\n",
       "      <td>Jiangsu</td>\n",
       "      <td>江苏</td>\n",
       "      <td>7503.2</td>\n",
       "      <td>3828.6</td>\n",
       "      <td>162.0</td>\n",
       "      <td>1213.0</td>\n",
       "      <td>1741.0</td>\n",
       "      <td>100.7</td>\n",
       "      <td>102.8</td>\n",
       "      <td>105.2</td>\n",
       "      <td>92.3</td>\n",
       "      <td>99.3</td>\n",
       "    </tr>\n",
       "  </tbody>\n",
       "</table>\n",
       "</div>"
      ],
      "text/plain": [
       "         Region Region_CN  Gross Output Value(100 million yuan)  Farming  \\\n",
       "0       Beijing        北京                                 281.7    102.3   \n",
       "1       Tianjin        天津                                 414.4    202.9   \n",
       "2         Hebei        河北                                6061.5   3114.9   \n",
       "3        Shanxi        山西                                1626.5    936.8   \n",
       "4     Neimenggu       内蒙古                                3176.3   1606.3   \n",
       "5      Liaoning        辽宁                                4368.2   1912.0   \n",
       "6         Jilin        吉林                                2442.7   1014.1   \n",
       "7  Heilongjiang       黑龙江                                5930.0   3774.5   \n",
       "8      Shanghai        上海                                 284.8    145.8   \n",
       "9       Jiangsu        江苏                                7503.2   3828.6   \n",
       "\n",
       "   Forestry  Animal Husbandry  Fishery  \\\n",
       "0     115.6              49.3      5.3   \n",
       "1      24.9             100.4     71.4   \n",
       "2     231.4            2035.4    212.5   \n",
       "3     101.3             478.6      6.9   \n",
       "4     100.9            1390.5     27.8   \n",
       "5     117.4            1479.5    669.6   \n",
       "6      68.1            1239.6     40.1   \n",
       "7     193.9            1671.8    123.1   \n",
       "8      18.3              48.2     55.0   \n",
       "9     162.0            1213.0   1741.0   \n",
       "\n",
       "   Indices of Gross Output (preceding year=100)  Farming.1  Forestry.1  \\\n",
       "0                                          93.7       89.2       121.6   \n",
       "1                                         100.6      103.2       195.8   \n",
       "2                                         101.9      101.7       104.8   \n",
       "3                                         102.0      102.5       102.2   \n",
       "4                                         102.1      103.4       101.0   \n",
       "5                                         103.0      105.6        85.3   \n",
       "6                                         102.3      105.5        94.5   \n",
       "7                                         102.5      102.5       105.1   \n",
       "8                                          92.7       92.2       111.4   \n",
       "9                                         100.7      102.8       105.2   \n",
       "\n",
       "   Animal Husbandry.1  Fishery.1  \n",
       "0                63.5       86.2  \n",
       "1                83.5       97.9  \n",
       "2               100.4      100.6  \n",
       "3               100.7      100.2  \n",
       "4               100.9       93.3  \n",
       "5               101.4      104.5  \n",
       "6                99.7      102.7  \n",
       "7               101.7      103.9  \n",
       "8                80.9      100.1  \n",
       "9                92.3       99.3  "
      ]
     },
     "execution_count": 2,
     "metadata": {},
     "output_type": "execute_result"
    }
   ],
   "source": [
    "df_original = pd.read_csv(r'C:\\Users\\Jason\\Desktop\\MATH3710 Midterm\\12.农　业\\12-3 Gross Output Value of Agriculture, Forestry, Animal Husbandry (Region).csv')\n",
    "df_original.head(10)"
   ]
  },
  {
   "cell_type": "markdown",
   "id": "058a1174",
   "metadata": {},
   "source": [
    "### Basic Information "
   ]
  },
  {
   "cell_type": "code",
   "execution_count": 3,
   "id": "29af8878",
   "metadata": {},
   "outputs": [
    {
     "name": "stdout",
     "output_type": "stream",
     "text": [
      "\u001b[1m       Forestry.1  Animal Husbandry.1   Fishery.1   Farming.1\n",
      "count   31.000000           31.000000   31.000000   31.000000\n",
      "mean   108.754839           96.603226  101.764516  103.809677\n",
      "std     17.424003            8.235795    4.994767    3.923634\n",
      "min     85.300000           63.500000   86.200000   89.200000\n",
      "25%    103.200000           94.800000  100.150000  103.150000\n",
      "50%    105.300000           98.200000  102.900000  104.000000\n",
      "75%    109.400000          100.800000  104.400000  105.550000\n",
      "max    195.800000          109.000000  109.900000  108.700000\u001b[0m\n"
     ]
    }
   ],
   "source": [
    "print(cl(df_original[['Forestry.1','Animal Husbandry.1','Fishery.1','Farming.1']].describe(), attrs=['bold']))"
   ]
  },
  {
   "cell_type": "code",
   "execution_count": 4,
   "id": "9585cbec",
   "metadata": {},
   "outputs": [
    {
     "name": "stdout",
     "output_type": "stream",
     "text": [
      "<class 'pandas.core.frame.DataFrame'>\n",
      "RangeIndex: 31 entries, 0 to 30\n",
      "Data columns (total 12 columns):\n",
      " #   Column                                        Non-Null Count  Dtype  \n",
      "---  ------                                        --------------  -----  \n",
      " 0   Region                                        31 non-null     object \n",
      " 1   Region_CN                                     31 non-null     object \n",
      " 2   Gross Output Value(100 million yuan)          31 non-null     float64\n",
      " 3   Farming                                       31 non-null     float64\n",
      " 4   Forestry                                      31 non-null     float64\n",
      " 5   Animal Husbandry                              31 non-null     float64\n",
      " 6   Fishery                                       31 non-null     float64\n",
      " 7   Indices of Gross Output (preceding year=100)  31 non-null     float64\n",
      " 8   Farming.1                                     31 non-null     float64\n",
      " 9   Forestry.1                                    31 non-null     float64\n",
      " 10  Animal Husbandry.1                            31 non-null     float64\n",
      " 11  Fishery.1                                     31 non-null     float64\n",
      "dtypes: float64(10), object(2)\n",
      "memory usage: 3.0+ KB\n"
     ]
    }
   ],
   "source": [
    "df_original.info()"
   ]
  },
  {
   "cell_type": "code",
   "execution_count": 5,
   "id": "9c8bb976",
   "metadata": {},
   "outputs": [
    {
     "data": {
      "text/plain": [
       "Region                                          0\n",
       "Region_CN                                       0\n",
       "Gross Output Value(100 million yuan)            0\n",
       "Farming                                         0\n",
       "Forestry                                        0\n",
       "Animal Husbandry                                0\n",
       "Fishery                                         0\n",
       "Indices of Gross Output (preceding year=100)    0\n",
       "Farming.1                                       0\n",
       "Forestry.1                                      0\n",
       "Animal Husbandry.1                              0\n",
       "Fishery.1                                       0\n",
       "dtype: int64"
      ]
     },
     "execution_count": 5,
     "metadata": {},
     "output_type": "execute_result"
    }
   ],
   "source": [
    "df_original.isnull().sum()  # there is no null value"
   ]
  },
  {
   "cell_type": "markdown",
   "id": "ee46c51c",
   "metadata": {},
   "source": [
    "#### Dividing groups\n",
    "Since China has divided each province into six regions, namely (Only list what we have from the dataset)\n",
    "\n",
    "1. North China: Beijing, Tianjin, Hebei, Shanxi, Inner Mongolia.\n",
    "\n",
    "2. Northeast region: Liaoning Province, Jilin Province, Heilongjiang Province.\n",
    "\n",
    "3. East China: Shanghai, Jiangsu, Zhejiang, Anhui, Fujian, Jiangxi, Shandong.\n",
    "\n",
    "4. Central South Region: Henan Province, Hubei Province, Hunan Province, Guangdong Province, Guangxi Province, Hainan Province.\n",
    "\n",
    "5. Southwest region: Chongqing, Sichuan, Guizhou, Yunnan and Tibet.\n",
    "\n",
    "6. Northwest region: Xinjiang Uygur Autonomous Region, Qinghai Province, Gansu Province, Ningxia Hui Autonomous Region, Shaanxi Province."
   ]
  },
  {
   "cell_type": "markdown",
   "id": "cf342791",
   "metadata": {},
   "source": [
    "Here is the thinking: using Farming, Forestry, Animal Husbandry, and Fishery as features to train the model, six regions as six classes, then train the model using machines learning skills.To find out difference between regions."
   ]
  },
  {
   "cell_type": "markdown",
   "id": "7c8ff667",
   "metadata": {},
   "source": [
    "So, we will map the feature of region into six classes, code will be shown."
   ]
  },
  {
   "cell_type": "code",
   "execution_count": 6,
   "id": "f47c6c93",
   "metadata": {},
   "outputs": [
    {
     "data": {
      "text/html": [
       "<div>\n",
       "<style scoped>\n",
       "    .dataframe tbody tr th:only-of-type {\n",
       "        vertical-align: middle;\n",
       "    }\n",
       "\n",
       "    .dataframe tbody tr th {\n",
       "        vertical-align: top;\n",
       "    }\n",
       "\n",
       "    .dataframe thead th {\n",
       "        text-align: right;\n",
       "    }\n",
       "</style>\n",
       "<table border=\"1\" class=\"dataframe\">\n",
       "  <thead>\n",
       "    <tr style=\"text-align: right;\">\n",
       "      <th></th>\n",
       "      <th>Region</th>\n",
       "      <th>Region_CN</th>\n",
       "      <th>Gross Output Value(100 million yuan)</th>\n",
       "      <th>Farming</th>\n",
       "      <th>Forestry</th>\n",
       "      <th>Animal Husbandry</th>\n",
       "      <th>Fishery</th>\n",
       "      <th>Indices of Gross Output (preceding year=100)</th>\n",
       "      <th>Farming.1</th>\n",
       "      <th>Forestry.1</th>\n",
       "      <th>Animal Husbandry.1</th>\n",
       "      <th>Fishery.1</th>\n",
       "    </tr>\n",
       "  </thead>\n",
       "  <tbody>\n",
       "    <tr>\n",
       "      <th>0</th>\n",
       "      <td>1</td>\n",
       "      <td>北京</td>\n",
       "      <td>281.7</td>\n",
       "      <td>102.3</td>\n",
       "      <td>115.6</td>\n",
       "      <td>49.3</td>\n",
       "      <td>5.3</td>\n",
       "      <td>93.7</td>\n",
       "      <td>89.2</td>\n",
       "      <td>121.6</td>\n",
       "      <td>63.5</td>\n",
       "      <td>86.2</td>\n",
       "    </tr>\n",
       "    <tr>\n",
       "      <th>1</th>\n",
       "      <td>1</td>\n",
       "      <td>天津</td>\n",
       "      <td>414.4</td>\n",
       "      <td>202.9</td>\n",
       "      <td>24.9</td>\n",
       "      <td>100.4</td>\n",
       "      <td>71.4</td>\n",
       "      <td>100.6</td>\n",
       "      <td>103.2</td>\n",
       "      <td>195.8</td>\n",
       "      <td>83.5</td>\n",
       "      <td>97.9</td>\n",
       "    </tr>\n",
       "    <tr>\n",
       "      <th>2</th>\n",
       "      <td>1</td>\n",
       "      <td>河北</td>\n",
       "      <td>6061.5</td>\n",
       "      <td>3114.9</td>\n",
       "      <td>231.4</td>\n",
       "      <td>2035.4</td>\n",
       "      <td>212.5</td>\n",
       "      <td>101.9</td>\n",
       "      <td>101.7</td>\n",
       "      <td>104.8</td>\n",
       "      <td>100.4</td>\n",
       "      <td>100.6</td>\n",
       "    </tr>\n",
       "    <tr>\n",
       "      <th>3</th>\n",
       "      <td>1</td>\n",
       "      <td>山西</td>\n",
       "      <td>1626.5</td>\n",
       "      <td>936.8</td>\n",
       "      <td>101.3</td>\n",
       "      <td>478.6</td>\n",
       "      <td>6.9</td>\n",
       "      <td>102.0</td>\n",
       "      <td>102.5</td>\n",
       "      <td>102.2</td>\n",
       "      <td>100.7</td>\n",
       "      <td>100.2</td>\n",
       "    </tr>\n",
       "    <tr>\n",
       "      <th>4</th>\n",
       "      <td>1</td>\n",
       "      <td>内蒙古</td>\n",
       "      <td>3176.3</td>\n",
       "      <td>1606.3</td>\n",
       "      <td>100.9</td>\n",
       "      <td>1390.5</td>\n",
       "      <td>27.8</td>\n",
       "      <td>102.1</td>\n",
       "      <td>103.4</td>\n",
       "      <td>101.0</td>\n",
       "      <td>100.9</td>\n",
       "      <td>93.3</td>\n",
       "    </tr>\n",
       "    <tr>\n",
       "      <th>5</th>\n",
       "      <td>2</td>\n",
       "      <td>辽宁</td>\n",
       "      <td>4368.2</td>\n",
       "      <td>1912.0</td>\n",
       "      <td>117.4</td>\n",
       "      <td>1479.5</td>\n",
       "      <td>669.6</td>\n",
       "      <td>103.0</td>\n",
       "      <td>105.6</td>\n",
       "      <td>85.3</td>\n",
       "      <td>101.4</td>\n",
       "      <td>104.5</td>\n",
       "    </tr>\n",
       "    <tr>\n",
       "      <th>6</th>\n",
       "      <td>2</td>\n",
       "      <td>吉林</td>\n",
       "      <td>2442.7</td>\n",
       "      <td>1014.1</td>\n",
       "      <td>68.1</td>\n",
       "      <td>1239.6</td>\n",
       "      <td>40.1</td>\n",
       "      <td>102.3</td>\n",
       "      <td>105.5</td>\n",
       "      <td>94.5</td>\n",
       "      <td>99.7</td>\n",
       "      <td>102.7</td>\n",
       "    </tr>\n",
       "    <tr>\n",
       "      <th>7</th>\n",
       "      <td>2</td>\n",
       "      <td>黑龙江</td>\n",
       "      <td>5930.0</td>\n",
       "      <td>3774.5</td>\n",
       "      <td>193.9</td>\n",
       "      <td>1671.8</td>\n",
       "      <td>123.1</td>\n",
       "      <td>102.5</td>\n",
       "      <td>102.5</td>\n",
       "      <td>105.1</td>\n",
       "      <td>101.7</td>\n",
       "      <td>103.9</td>\n",
       "    </tr>\n",
       "    <tr>\n",
       "      <th>8</th>\n",
       "      <td>3</td>\n",
       "      <td>上海</td>\n",
       "      <td>284.8</td>\n",
       "      <td>145.8</td>\n",
       "      <td>18.3</td>\n",
       "      <td>48.2</td>\n",
       "      <td>55.0</td>\n",
       "      <td>92.7</td>\n",
       "      <td>92.2</td>\n",
       "      <td>111.4</td>\n",
       "      <td>80.9</td>\n",
       "      <td>100.1</td>\n",
       "    </tr>\n",
       "    <tr>\n",
       "      <th>9</th>\n",
       "      <td>3</td>\n",
       "      <td>江苏</td>\n",
       "      <td>7503.2</td>\n",
       "      <td>3828.6</td>\n",
       "      <td>162.0</td>\n",
       "      <td>1213.0</td>\n",
       "      <td>1741.0</td>\n",
       "      <td>100.7</td>\n",
       "      <td>102.8</td>\n",
       "      <td>105.2</td>\n",
       "      <td>92.3</td>\n",
       "      <td>99.3</td>\n",
       "    </tr>\n",
       "    <tr>\n",
       "      <th>10</th>\n",
       "      <td>3</td>\n",
       "      <td>浙江</td>\n",
       "      <td>3355.2</td>\n",
       "      <td>1595.0</td>\n",
       "      <td>185.5</td>\n",
       "      <td>395.2</td>\n",
       "      <td>1080.9</td>\n",
       "      <td>101.8</td>\n",
       "      <td>102.5</td>\n",
       "      <td>102.3</td>\n",
       "      <td>94.3</td>\n",
       "      <td>102.2</td>\n",
       "    </tr>\n",
       "    <tr>\n",
       "      <th>11</th>\n",
       "      <td>3</td>\n",
       "      <td>安徽</td>\n",
       "      <td>5162.1</td>\n",
       "      <td>2365.4</td>\n",
       "      <td>351.3</td>\n",
       "      <td>1628.9</td>\n",
       "      <td>521.3</td>\n",
       "      <td>102.3</td>\n",
       "      <td>103.4</td>\n",
       "      <td>104.3</td>\n",
       "      <td>98.2</td>\n",
       "      <td>103.3</td>\n",
       "    </tr>\n",
       "    <tr>\n",
       "      <th>12</th>\n",
       "      <td>3</td>\n",
       "      <td>福建</td>\n",
       "      <td>4636.6</td>\n",
       "      <td>1774.8</td>\n",
       "      <td>417.3</td>\n",
       "      <td>914.4</td>\n",
       "      <td>1361.7</td>\n",
       "      <td>103.6</td>\n",
       "      <td>104.0</td>\n",
       "      <td>104.1</td>\n",
       "      <td>100.5</td>\n",
       "      <td>104.3</td>\n",
       "    </tr>\n",
       "    <tr>\n",
       "      <th>13</th>\n",
       "      <td>3</td>\n",
       "      <td>江西</td>\n",
       "      <td>3481.3</td>\n",
       "      <td>1624.3</td>\n",
       "      <td>342.8</td>\n",
       "      <td>888.9</td>\n",
       "      <td>476.5</td>\n",
       "      <td>103.0</td>\n",
       "      <td>104.0</td>\n",
       "      <td>105.1</td>\n",
       "      <td>100.6</td>\n",
       "      <td>101.1</td>\n",
       "    </tr>\n",
       "    <tr>\n",
       "      <th>14</th>\n",
       "      <td>3</td>\n",
       "      <td>山东</td>\n",
       "      <td>9671.7</td>\n",
       "      <td>4914.4</td>\n",
       "      <td>197.7</td>\n",
       "      <td>2412.1</td>\n",
       "      <td>1397.4</td>\n",
       "      <td>100.8</td>\n",
       "      <td>103.1</td>\n",
       "      <td>109.2</td>\n",
       "      <td>95.4</td>\n",
       "      <td>97.4</td>\n",
       "    </tr>\n",
       "    <tr>\n",
       "      <th>15</th>\n",
       "      <td>4</td>\n",
       "      <td>河南</td>\n",
       "      <td>8541.8</td>\n",
       "      <td>5408.6</td>\n",
       "      <td>140.8</td>\n",
       "      <td>2316.5</td>\n",
       "      <td>118.2</td>\n",
       "      <td>103.0</td>\n",
       "      <td>105.2</td>\n",
       "      <td>105.9</td>\n",
       "      <td>94.8</td>\n",
       "      <td>109.9</td>\n",
       "    </tr>\n",
       "    <tr>\n",
       "      <th>16</th>\n",
       "      <td>4</td>\n",
       "      <td>湖北</td>\n",
       "      <td>6681.9</td>\n",
       "      <td>3257.9</td>\n",
       "      <td>258.5</td>\n",
       "      <td>1521.5</td>\n",
       "      <td>1152.7</td>\n",
       "      <td>103.5</td>\n",
       "      <td>103.9</td>\n",
       "      <td>109.7</td>\n",
       "      <td>97.1</td>\n",
       "      <td>106.7</td>\n",
       "    </tr>\n",
       "    <tr>\n",
       "      <th>17</th>\n",
       "      <td>4</td>\n",
       "      <td>湖南</td>\n",
       "      <td>6405.1</td>\n",
       "      <td>3052.1</td>\n",
       "      <td>430.7</td>\n",
       "      <td>2003.1</td>\n",
       "      <td>441.8</td>\n",
       "      <td>103.2</td>\n",
       "      <td>103.7</td>\n",
       "      <td>109.5</td>\n",
       "      <td>98.1</td>\n",
       "      <td>106.9</td>\n",
       "    </tr>\n",
       "    <tr>\n",
       "      <th>18</th>\n",
       "      <td>4</td>\n",
       "      <td>广东</td>\n",
       "      <td>7175.9</td>\n",
       "      <td>3530.2</td>\n",
       "      <td>408.5</td>\n",
       "      <td>1404.1</td>\n",
       "      <td>1524.8</td>\n",
       "      <td>103.5</td>\n",
       "      <td>105.8</td>\n",
       "      <td>105.1</td>\n",
       "      <td>94.8</td>\n",
       "      <td>103.8</td>\n",
       "    </tr>\n",
       "    <tr>\n",
       "      <th>19</th>\n",
       "      <td>4</td>\n",
       "      <td>广西</td>\n",
       "      <td>5498.8</td>\n",
       "      <td>3102.3</td>\n",
       "      <td>410.5</td>\n",
       "      <td>1189.7</td>\n",
       "      <td>538.9</td>\n",
       "      <td>104.8</td>\n",
       "      <td>107.4</td>\n",
       "      <td>107.3</td>\n",
       "      <td>96.1</td>\n",
       "      <td>106.2</td>\n",
       "    </tr>\n",
       "    <tr>\n",
       "      <th>20</th>\n",
       "      <td>4</td>\n",
       "      <td>海南</td>\n",
       "      <td>1689.4</td>\n",
       "      <td>819.6</td>\n",
       "      <td>106.4</td>\n",
       "      <td>300.8</td>\n",
       "      <td>390.9</td>\n",
       "      <td>102.6</td>\n",
       "      <td>105.4</td>\n",
       "      <td>105.3</td>\n",
       "      <td>93.9</td>\n",
       "      <td>100.7</td>\n",
       "    </tr>\n",
       "    <tr>\n",
       "      <th>21</th>\n",
       "      <td>5</td>\n",
       "      <td>重庆</td>\n",
       "      <td>2337.8</td>\n",
       "      <td>1397.5</td>\n",
       "      <td>113.1</td>\n",
       "      <td>679.5</td>\n",
       "      <td>105.3</td>\n",
       "      <td>102.8</td>\n",
       "      <td>105.5</td>\n",
       "      <td>110.8</td>\n",
       "      <td>94.0</td>\n",
       "      <td>102.8</td>\n",
       "    </tr>\n",
       "    <tr>\n",
       "      <th>22</th>\n",
       "      <td>5</td>\n",
       "      <td>四川</td>\n",
       "      <td>7889.3</td>\n",
       "      <td>4395.0</td>\n",
       "      <td>372.2</td>\n",
       "      <td>2647.9</td>\n",
       "      <td>263.5</td>\n",
       "      <td>102.6</td>\n",
       "      <td>105.5</td>\n",
       "      <td>102.1</td>\n",
       "      <td>96.6</td>\n",
       "      <td>104.1</td>\n",
       "    </tr>\n",
       "    <tr>\n",
       "      <th>23</th>\n",
       "      <td>5</td>\n",
       "      <td>贵州</td>\n",
       "      <td>3889.0</td>\n",
       "      <td>2535.7</td>\n",
       "      <td>275.4</td>\n",
       "      <td>829.6</td>\n",
       "      <td>57.7</td>\n",
       "      <td>105.9</td>\n",
       "      <td>108.4</td>\n",
       "      <td>108.0</td>\n",
       "      <td>98.5</td>\n",
       "      <td>106.4</td>\n",
       "    </tr>\n",
       "    <tr>\n",
       "      <th>24</th>\n",
       "      <td>5</td>\n",
       "      <td>云南</td>\n",
       "      <td>4935.7</td>\n",
       "      <td>2680.2</td>\n",
       "      <td>395.5</td>\n",
       "      <td>1600.7</td>\n",
       "      <td>105.4</td>\n",
       "      <td>105.6</td>\n",
       "      <td>108.7</td>\n",
       "      <td>101.6</td>\n",
       "      <td>101.6</td>\n",
       "      <td>104.0</td>\n",
       "    </tr>\n",
       "    <tr>\n",
       "      <th>25</th>\n",
       "      <td>5</td>\n",
       "      <td>西藏</td>\n",
       "      <td>212.8</td>\n",
       "      <td>94.9</td>\n",
       "      <td>3.5</td>\n",
       "      <td>108.4</td>\n",
       "      <td>0.4</td>\n",
       "      <td>107.7</td>\n",
       "      <td>106.6</td>\n",
       "      <td>109.4</td>\n",
       "      <td>109.0</td>\n",
       "      <td>103.5</td>\n",
       "    </tr>\n",
       "    <tr>\n",
       "      <th>26</th>\n",
       "      <td>6</td>\n",
       "      <td>陕西</td>\n",
       "      <td>3536.8</td>\n",
       "      <td>2445.8</td>\n",
       "      <td>106.1</td>\n",
       "      <td>757.2</td>\n",
       "      <td>31.4</td>\n",
       "      <td>104.3</td>\n",
       "      <td>106.3</td>\n",
       "      <td>107.3</td>\n",
       "      <td>97.0</td>\n",
       "      <td>104.7</td>\n",
       "    </tr>\n",
       "    <tr>\n",
       "      <th>27</th>\n",
       "      <td>6</td>\n",
       "      <td>甘肃</td>\n",
       "      <td>1887.6</td>\n",
       "      <td>1306.4</td>\n",
       "      <td>38.1</td>\n",
       "      <td>395.6</td>\n",
       "      <td>2.0</td>\n",
       "      <td>105.8</td>\n",
       "      <td>106.6</td>\n",
       "      <td>109.4</td>\n",
       "      <td>104.2</td>\n",
       "      <td>102.9</td>\n",
       "    </tr>\n",
       "    <tr>\n",
       "      <th>28</th>\n",
       "      <td>6</td>\n",
       "      <td>青海</td>\n",
       "      <td>454.4</td>\n",
       "      <td>181.3</td>\n",
       "      <td>11.3</td>\n",
       "      <td>250.8</td>\n",
       "      <td>3.9</td>\n",
       "      <td>104.6</td>\n",
       "      <td>104.6</td>\n",
       "      <td>108.1</td>\n",
       "      <td>104.5</td>\n",
       "      <td>107.5</td>\n",
       "    </tr>\n",
       "    <tr>\n",
       "      <th>29</th>\n",
       "      <td>6</td>\n",
       "      <td>宁夏</td>\n",
       "      <td>584.8</td>\n",
       "      <td>330.8</td>\n",
       "      <td>11.2</td>\n",
       "      <td>197.8</td>\n",
       "      <td>17.4</td>\n",
       "      <td>103.1</td>\n",
       "      <td>104.0</td>\n",
       "      <td>120.5</td>\n",
       "      <td>101.0</td>\n",
       "      <td>96.8</td>\n",
       "    </tr>\n",
       "    <tr>\n",
       "      <th>30</th>\n",
       "      <td>6</td>\n",
       "      <td>新疆</td>\n",
       "      <td>3850.6</td>\n",
       "      <td>2616.3</td>\n",
       "      <td>65.6</td>\n",
       "      <td>915.3</td>\n",
       "      <td>27.5</td>\n",
       "      <td>103.5</td>\n",
       "      <td>104.9</td>\n",
       "      <td>99.5</td>\n",
       "      <td>99.5</td>\n",
       "      <td>90.8</td>\n",
       "    </tr>\n",
       "  </tbody>\n",
       "</table>\n",
       "</div>"
      ],
      "text/plain": [
       "    Region Region_CN  Gross Output Value(100 million yuan)  Farming  Forestry  \\\n",
       "0        1        北京                                 281.7    102.3     115.6   \n",
       "1        1        天津                                 414.4    202.9      24.9   \n",
       "2        1        河北                                6061.5   3114.9     231.4   \n",
       "3        1        山西                                1626.5    936.8     101.3   \n",
       "4        1       内蒙古                                3176.3   1606.3     100.9   \n",
       "5        2        辽宁                                4368.2   1912.0     117.4   \n",
       "6        2        吉林                                2442.7   1014.1      68.1   \n",
       "7        2       黑龙江                                5930.0   3774.5     193.9   \n",
       "8        3        上海                                 284.8    145.8      18.3   \n",
       "9        3        江苏                                7503.2   3828.6     162.0   \n",
       "10       3        浙江                                3355.2   1595.0     185.5   \n",
       "11       3        安徽                                5162.1   2365.4     351.3   \n",
       "12       3        福建                                4636.6   1774.8     417.3   \n",
       "13       3        江西                                3481.3   1624.3     342.8   \n",
       "14       3        山东                                9671.7   4914.4     197.7   \n",
       "15       4        河南                                8541.8   5408.6     140.8   \n",
       "16       4        湖北                                6681.9   3257.9     258.5   \n",
       "17       4        湖南                                6405.1   3052.1     430.7   \n",
       "18       4        广东                                7175.9   3530.2     408.5   \n",
       "19       4        广西                                5498.8   3102.3     410.5   \n",
       "20       4        海南                                1689.4    819.6     106.4   \n",
       "21       5        重庆                                2337.8   1397.5     113.1   \n",
       "22       5        四川                                7889.3   4395.0     372.2   \n",
       "23       5        贵州                                3889.0   2535.7     275.4   \n",
       "24       5        云南                                4935.7   2680.2     395.5   \n",
       "25       5        西藏                                 212.8     94.9       3.5   \n",
       "26       6        陕西                                3536.8   2445.8     106.1   \n",
       "27       6        甘肃                                1887.6   1306.4      38.1   \n",
       "28       6        青海                                 454.4    181.3      11.3   \n",
       "29       6        宁夏                                 584.8    330.8      11.2   \n",
       "30       6        新疆                                3850.6   2616.3      65.6   \n",
       "\n",
       "    Animal Husbandry  Fishery  Indices of Gross Output (preceding year=100)  \\\n",
       "0               49.3      5.3                                          93.7   \n",
       "1              100.4     71.4                                         100.6   \n",
       "2             2035.4    212.5                                         101.9   \n",
       "3              478.6      6.9                                         102.0   \n",
       "4             1390.5     27.8                                         102.1   \n",
       "5             1479.5    669.6                                         103.0   \n",
       "6             1239.6     40.1                                         102.3   \n",
       "7             1671.8    123.1                                         102.5   \n",
       "8               48.2     55.0                                          92.7   \n",
       "9             1213.0   1741.0                                         100.7   \n",
       "10             395.2   1080.9                                         101.8   \n",
       "11            1628.9    521.3                                         102.3   \n",
       "12             914.4   1361.7                                         103.6   \n",
       "13             888.9    476.5                                         103.0   \n",
       "14            2412.1   1397.4                                         100.8   \n",
       "15            2316.5    118.2                                         103.0   \n",
       "16            1521.5   1152.7                                         103.5   \n",
       "17            2003.1    441.8                                         103.2   \n",
       "18            1404.1   1524.8                                         103.5   \n",
       "19            1189.7    538.9                                         104.8   \n",
       "20             300.8    390.9                                         102.6   \n",
       "21             679.5    105.3                                         102.8   \n",
       "22            2647.9    263.5                                         102.6   \n",
       "23             829.6     57.7                                         105.9   \n",
       "24            1600.7    105.4                                         105.6   \n",
       "25             108.4      0.4                                         107.7   \n",
       "26             757.2     31.4                                         104.3   \n",
       "27             395.6      2.0                                         105.8   \n",
       "28             250.8      3.9                                         104.6   \n",
       "29             197.8     17.4                                         103.1   \n",
       "30             915.3     27.5                                         103.5   \n",
       "\n",
       "    Farming.1  Forestry.1  Animal Husbandry.1  Fishery.1  \n",
       "0        89.2       121.6                63.5       86.2  \n",
       "1       103.2       195.8                83.5       97.9  \n",
       "2       101.7       104.8               100.4      100.6  \n",
       "3       102.5       102.2               100.7      100.2  \n",
       "4       103.4       101.0               100.9       93.3  \n",
       "5       105.6        85.3               101.4      104.5  \n",
       "6       105.5        94.5                99.7      102.7  \n",
       "7       102.5       105.1               101.7      103.9  \n",
       "8        92.2       111.4                80.9      100.1  \n",
       "9       102.8       105.2                92.3       99.3  \n",
       "10      102.5       102.3                94.3      102.2  \n",
       "11      103.4       104.3                98.2      103.3  \n",
       "12      104.0       104.1               100.5      104.3  \n",
       "13      104.0       105.1               100.6      101.1  \n",
       "14      103.1       109.2                95.4       97.4  \n",
       "15      105.2       105.9                94.8      109.9  \n",
       "16      103.9       109.7                97.1      106.7  \n",
       "17      103.7       109.5                98.1      106.9  \n",
       "18      105.8       105.1                94.8      103.8  \n",
       "19      107.4       107.3                96.1      106.2  \n",
       "20      105.4       105.3                93.9      100.7  \n",
       "21      105.5       110.8                94.0      102.8  \n",
       "22      105.5       102.1                96.6      104.1  \n",
       "23      108.4       108.0                98.5      106.4  \n",
       "24      108.7       101.6               101.6      104.0  \n",
       "25      106.6       109.4               109.0      103.5  \n",
       "26      106.3       107.3                97.0      104.7  \n",
       "27      106.6       109.4               104.2      102.9  \n",
       "28      104.6       108.1               104.5      107.5  \n",
       "29      104.0       120.5               101.0       96.8  \n",
       "30      104.9        99.5                99.5       90.8  "
      ]
     },
     "execution_count": 6,
     "metadata": {},
     "output_type": "execute_result"
    }
   ],
   "source": [
    "# Classes_Mapping\n",
    "region_mapping = {  \n",
    "            'Beijing': 1,\n",
    "            'Tianjin': 1,\n",
    "            'Hebei': 1,\n",
    "            'Shanxi': 1,\n",
    "            'Neimenggu': 1,   \n",
    "            'Liaoning': 2,\n",
    "            'Jilin': 2,\n",
    "            'Heilongjiang': 2,  \n",
    "            'Shanghai': 3,\n",
    "            'Jiangsu': 3,\n",
    "            'Zhejiang': 3,\n",
    "            'Anhui': 3,\n",
    "            'Fujian': 3,\n",
    "            'Jiangxi': 3,\n",
    "            'Shandong': 3,\n",
    "            'Henan': 4,\n",
    "            'Hubei': 4,\n",
    "            'Hunan': 4,\n",
    "            'Guangxi': 4, \n",
    "            'Guangdong': 4, \n",
    "            'Hainan': 4,\n",
    "            'Chongqin': 5,\n",
    "            'Sichuan': 5,\n",
    "            'Guizhou': 5,\n",
    "            'Yunnan': 5,\n",
    "            'Xizang': 5,\n",
    "            'Shanxi_': 6,\n",
    "            'Gansu': 6,\n",
    "            'Qinghai': 6,\n",
    "            'Ningxia': 6,\n",
    "            'Xinjiang': 6}  \n",
    "df_original['Region'] = df_original['Region'].map(region_mapping)\n",
    "df_original"
   ]
  },
  {
   "cell_type": "markdown",
   "id": "495672fe",
   "metadata": {},
   "source": [
    "So, here we have the classes which is the first column."
   ]
  },
  {
   "cell_type": "code",
   "execution_count": 7,
   "id": "13333532",
   "metadata": {},
   "outputs": [
    {
     "data": {
      "text/html": [
       "<div>\n",
       "<style scoped>\n",
       "    .dataframe tbody tr th:only-of-type {\n",
       "        vertical-align: middle;\n",
       "    }\n",
       "\n",
       "    .dataframe tbody tr th {\n",
       "        vertical-align: top;\n",
       "    }\n",
       "\n",
       "    .dataframe thead th {\n",
       "        text-align: right;\n",
       "    }\n",
       "</style>\n",
       "<table border=\"1\" class=\"dataframe\">\n",
       "  <thead>\n",
       "    <tr style=\"text-align: right;\">\n",
       "      <th></th>\n",
       "      <th>Region</th>\n",
       "      <th>Region_CN</th>\n",
       "      <th>Gross Output Value(100 million yuan)</th>\n",
       "      <th>Farming</th>\n",
       "      <th>Forestry</th>\n",
       "      <th>Animal Husbandry</th>\n",
       "      <th>Fishery</th>\n",
       "      <th>Indices of Gross Output (preceding year=100)</th>\n",
       "      <th>Farming.1</th>\n",
       "      <th>Forestry.1</th>\n",
       "      <th>Animal Husbandry.1</th>\n",
       "      <th>Fishery.1</th>\n",
       "    </tr>\n",
       "  </thead>\n",
       "  <tbody>\n",
       "    <tr>\n",
       "      <th>0</th>\n",
       "      <td>1</td>\n",
       "      <td>北京</td>\n",
       "      <td>281.7</td>\n",
       "      <td>102.3</td>\n",
       "      <td>115.6</td>\n",
       "      <td>49.3</td>\n",
       "      <td>5.3</td>\n",
       "      <td>93.7</td>\n",
       "      <td>89.2</td>\n",
       "      <td>121.6</td>\n",
       "      <td>63.5</td>\n",
       "      <td>86.2</td>\n",
       "    </tr>\n",
       "    <tr>\n",
       "      <th>1</th>\n",
       "      <td>1</td>\n",
       "      <td>天津</td>\n",
       "      <td>414.4</td>\n",
       "      <td>202.9</td>\n",
       "      <td>24.9</td>\n",
       "      <td>100.4</td>\n",
       "      <td>71.4</td>\n",
       "      <td>100.6</td>\n",
       "      <td>103.2</td>\n",
       "      <td>195.8</td>\n",
       "      <td>83.5</td>\n",
       "      <td>97.9</td>\n",
       "    </tr>\n",
       "    <tr>\n",
       "      <th>2</th>\n",
       "      <td>1</td>\n",
       "      <td>河北</td>\n",
       "      <td>6061.5</td>\n",
       "      <td>3114.9</td>\n",
       "      <td>231.4</td>\n",
       "      <td>2035.4</td>\n",
       "      <td>212.5</td>\n",
       "      <td>101.9</td>\n",
       "      <td>101.7</td>\n",
       "      <td>104.8</td>\n",
       "      <td>100.4</td>\n",
       "      <td>100.6</td>\n",
       "    </tr>\n",
       "    <tr>\n",
       "      <th>3</th>\n",
       "      <td>1</td>\n",
       "      <td>山西</td>\n",
       "      <td>1626.5</td>\n",
       "      <td>936.8</td>\n",
       "      <td>101.3</td>\n",
       "      <td>478.6</td>\n",
       "      <td>6.9</td>\n",
       "      <td>102.0</td>\n",
       "      <td>102.5</td>\n",
       "      <td>102.2</td>\n",
       "      <td>100.7</td>\n",
       "      <td>100.2</td>\n",
       "    </tr>\n",
       "    <tr>\n",
       "      <th>4</th>\n",
       "      <td>1</td>\n",
       "      <td>内蒙古</td>\n",
       "      <td>3176.3</td>\n",
       "      <td>1606.3</td>\n",
       "      <td>100.9</td>\n",
       "      <td>1390.5</td>\n",
       "      <td>27.8</td>\n",
       "      <td>102.1</td>\n",
       "      <td>103.4</td>\n",
       "      <td>101.0</td>\n",
       "      <td>100.9</td>\n",
       "      <td>93.3</td>\n",
       "    </tr>\n",
       "  </tbody>\n",
       "</table>\n",
       "</div>"
      ],
      "text/plain": [
       "   Region Region_CN  Gross Output Value(100 million yuan)  Farming  Forestry  \\\n",
       "0       1        北京                                 281.7    102.3     115.6   \n",
       "1       1        天津                                 414.4    202.9      24.9   \n",
       "2       1        河北                                6061.5   3114.9     231.4   \n",
       "3       1        山西                                1626.5    936.8     101.3   \n",
       "4       1       内蒙古                                3176.3   1606.3     100.9   \n",
       "\n",
       "   Animal Husbandry  Fishery  Indices of Gross Output (preceding year=100)  \\\n",
       "0              49.3      5.3                                          93.7   \n",
       "1             100.4     71.4                                         100.6   \n",
       "2            2035.4    212.5                                         101.9   \n",
       "3             478.6      6.9                                         102.0   \n",
       "4            1390.5     27.8                                         102.1   \n",
       "\n",
       "   Farming.1  Forestry.1  Animal Husbandry.1  Fishery.1  \n",
       "0       89.2       121.6                63.5       86.2  \n",
       "1      103.2       195.8                83.5       97.9  \n",
       "2      101.7       104.8               100.4      100.6  \n",
       "3      102.5       102.2               100.7      100.2  \n",
       "4      103.4       101.0               100.9       93.3  "
      ]
     },
     "execution_count": 7,
     "metadata": {},
     "output_type": "execute_result"
    }
   ],
   "source": [
    "df_original_c1 = df_original.copy(deep=True) # Copy a new processed dataframe\n",
    "df_original_c1.head(5)"
   ]
  },
  {
   "cell_type": "markdown",
   "id": "6db9fbb2",
   "metadata": {},
   "source": [
    "Choose target Columns"
   ]
  },
  {
   "cell_type": "code",
   "execution_count": 8,
   "id": "d131b656",
   "metadata": {},
   "outputs": [
    {
     "data": {
      "text/html": [
       "<div>\n",
       "<style scoped>\n",
       "    .dataframe tbody tr th:only-of-type {\n",
       "        vertical-align: middle;\n",
       "    }\n",
       "\n",
       "    .dataframe tbody tr th {\n",
       "        vertical-align: top;\n",
       "    }\n",
       "\n",
       "    .dataframe thead th {\n",
       "        text-align: right;\n",
       "    }\n",
       "</style>\n",
       "<table border=\"1\" class=\"dataframe\">\n",
       "  <thead>\n",
       "    <tr style=\"text-align: right;\">\n",
       "      <th></th>\n",
       "      <th>Region</th>\n",
       "      <th>Indices of Gross Output (preceding year=100)</th>\n",
       "      <th>Farming.1</th>\n",
       "      <th>Forestry.1</th>\n",
       "      <th>Animal Husbandry.1</th>\n",
       "      <th>Fishery.1</th>\n",
       "    </tr>\n",
       "  </thead>\n",
       "  <tbody>\n",
       "    <tr>\n",
       "      <th>0</th>\n",
       "      <td>1</td>\n",
       "      <td>93.7</td>\n",
       "      <td>89.2</td>\n",
       "      <td>121.6</td>\n",
       "      <td>63.5</td>\n",
       "      <td>86.2</td>\n",
       "    </tr>\n",
       "    <tr>\n",
       "      <th>1</th>\n",
       "      <td>1</td>\n",
       "      <td>100.6</td>\n",
       "      <td>103.2</td>\n",
       "      <td>195.8</td>\n",
       "      <td>83.5</td>\n",
       "      <td>97.9</td>\n",
       "    </tr>\n",
       "    <tr>\n",
       "      <th>2</th>\n",
       "      <td>1</td>\n",
       "      <td>101.9</td>\n",
       "      <td>101.7</td>\n",
       "      <td>104.8</td>\n",
       "      <td>100.4</td>\n",
       "      <td>100.6</td>\n",
       "    </tr>\n",
       "    <tr>\n",
       "      <th>3</th>\n",
       "      <td>1</td>\n",
       "      <td>102.0</td>\n",
       "      <td>102.5</td>\n",
       "      <td>102.2</td>\n",
       "      <td>100.7</td>\n",
       "      <td>100.2</td>\n",
       "    </tr>\n",
       "    <tr>\n",
       "      <th>4</th>\n",
       "      <td>1</td>\n",
       "      <td>102.1</td>\n",
       "      <td>103.4</td>\n",
       "      <td>101.0</td>\n",
       "      <td>100.9</td>\n",
       "      <td>93.3</td>\n",
       "    </tr>\n",
       "  </tbody>\n",
       "</table>\n",
       "</div>"
      ],
      "text/plain": [
       "   Region  Indices of Gross Output (preceding year=100)  Farming.1  \\\n",
       "0       1                                          93.7       89.2   \n",
       "1       1                                         100.6      103.2   \n",
       "2       1                                         101.9      101.7   \n",
       "3       1                                         102.0      102.5   \n",
       "4       1                                         102.1      103.4   \n",
       "\n",
       "   Forestry.1  Animal Husbandry.1  Fishery.1  \n",
       "0       121.6                63.5       86.2  \n",
       "1       195.8                83.5       97.9  \n",
       "2       104.8               100.4      100.6  \n",
       "3       102.2               100.7      100.2  \n",
       "4       101.0               100.9       93.3  "
      ]
     },
     "execution_count": 8,
     "metadata": {},
     "output_type": "execute_result"
    }
   ],
   "source": [
    "df_original_c1 = df_original_c1[['Region','Indices of Gross Output (preceding year=100)', \n",
    "                                 'Farming.1', 'Forestry.1', 'Animal Husbandry.1', 'Fishery.1']] # Choose certain columns\n",
    "df_original_c5 = df_original_c1.copy(deep=True)\n",
    "df_original_c1.head(5)"
   ]
  },
  {
   "cell_type": "markdown",
   "id": "17e5820d",
   "metadata": {},
   "source": [
    "Map Region"
   ]
  },
  {
   "cell_type": "code",
   "execution_count": 9,
   "id": "79c29fc8",
   "metadata": {},
   "outputs": [
    {
     "data": {
      "text/html": [
       "<div>\n",
       "<style scoped>\n",
       "    .dataframe tbody tr th:only-of-type {\n",
       "        vertical-align: middle;\n",
       "    }\n",
       "\n",
       "    .dataframe tbody tr th {\n",
       "        vertical-align: top;\n",
       "    }\n",
       "\n",
       "    .dataframe thead th {\n",
       "        text-align: right;\n",
       "    }\n",
       "</style>\n",
       "<table border=\"1\" class=\"dataframe\">\n",
       "  <thead>\n",
       "    <tr style=\"text-align: right;\">\n",
       "      <th></th>\n",
       "      <th>Region</th>\n",
       "      <th>Indices of Gross Output (preceding year=100)</th>\n",
       "      <th>Farming.1</th>\n",
       "      <th>Forestry.1</th>\n",
       "      <th>Animal Husbandry.1</th>\n",
       "      <th>Fishery.1</th>\n",
       "    </tr>\n",
       "  </thead>\n",
       "  <tbody>\n",
       "    <tr>\n",
       "      <th>0</th>\n",
       "      <td>North Region</td>\n",
       "      <td>93.7</td>\n",
       "      <td>89.2</td>\n",
       "      <td>121.6</td>\n",
       "      <td>63.5</td>\n",
       "      <td>86.2</td>\n",
       "    </tr>\n",
       "    <tr>\n",
       "      <th>1</th>\n",
       "      <td>North Region</td>\n",
       "      <td>100.6</td>\n",
       "      <td>103.2</td>\n",
       "      <td>195.8</td>\n",
       "      <td>83.5</td>\n",
       "      <td>97.9</td>\n",
       "    </tr>\n",
       "    <tr>\n",
       "      <th>2</th>\n",
       "      <td>North Region</td>\n",
       "      <td>101.9</td>\n",
       "      <td>101.7</td>\n",
       "      <td>104.8</td>\n",
       "      <td>100.4</td>\n",
       "      <td>100.6</td>\n",
       "    </tr>\n",
       "  </tbody>\n",
       "</table>\n",
       "</div>"
      ],
      "text/plain": [
       "         Region  Indices of Gross Output (preceding year=100)  Farming.1  \\\n",
       "0  North Region                                          93.7       89.2   \n",
       "1  North Region                                         100.6      103.2   \n",
       "2  North Region                                         101.9      101.7   \n",
       "\n",
       "   Forestry.1  Animal Husbandry.1  Fishery.1  \n",
       "0       121.6                63.5       86.2  \n",
       "1       195.8                83.5       97.9  \n",
       "2       104.8               100.4      100.6  "
      ]
     },
     "execution_count": 9,
     "metadata": {},
     "output_type": "execute_result"
    }
   ],
   "source": [
    "df_original_c2 = df_original_c1.copy()\n",
    "# Classes_Mapping\n",
    "RegionEN_mapping = {  \n",
    "            1: 'North Region',\n",
    "            2: 'Northeast Region',\n",
    "            3: 'East Region',\n",
    "            4: 'Central South Region',\n",
    "            5: 'Southwest Region',\n",
    "            6: 'Northwest region'}  \n",
    "df_original_c2['Region'] = df_original_c2['Region'].map(RegionEN_mapping)\n",
    "df_original_c2.head(3)"
   ]
  },
  {
   "cell_type": "markdown",
   "id": "4464abdc",
   "metadata": {},
   "source": [
    "### Visualization"
   ]
  },
  {
   "cell_type": "code",
   "execution_count": 10,
   "id": "425e29b0",
   "metadata": {},
   "outputs": [
    {
     "data": {
      "text/html": [
       "<div>\n",
       "<style scoped>\n",
       "    .dataframe tbody tr th:only-of-type {\n",
       "        vertical-align: middle;\n",
       "    }\n",
       "\n",
       "    .dataframe tbody tr th {\n",
       "        vertical-align: top;\n",
       "    }\n",
       "\n",
       "    .dataframe thead th {\n",
       "        text-align: right;\n",
       "    }\n",
       "</style>\n",
       "<table border=\"1\" class=\"dataframe\">\n",
       "  <thead>\n",
       "    <tr style=\"text-align: right;\">\n",
       "      <th></th>\n",
       "      <th>Indices of Gross Output (preceding year=100)</th>\n",
       "      <th>Farming.1</th>\n",
       "      <th>Forestry.1</th>\n",
       "      <th>Animal Husbandry.1</th>\n",
       "      <th>Fishery.1</th>\n",
       "    </tr>\n",
       "  </thead>\n",
       "  <tbody>\n",
       "    <tr>\n",
       "      <th>Indices of Gross Output (preceding year=100)</th>\n",
       "      <td>1.000000</td>\n",
       "      <td>0.930986</td>\n",
       "      <td>-0.215530</td>\n",
       "      <td>0.840470</td>\n",
       "      <td>0.551712</td>\n",
       "    </tr>\n",
       "    <tr>\n",
       "      <th>Farming.1</th>\n",
       "      <td>0.930986</td>\n",
       "      <td>1.000000</td>\n",
       "      <td>-0.183946</td>\n",
       "      <td>0.782347</td>\n",
       "      <td>0.577979</td>\n",
       "    </tr>\n",
       "    <tr>\n",
       "      <th>Forestry.1</th>\n",
       "      <td>-0.215530</td>\n",
       "      <td>-0.183946</td>\n",
       "      <td>1.000000</td>\n",
       "      <td>-0.430924</td>\n",
       "      <td>-0.221612</td>\n",
       "    </tr>\n",
       "    <tr>\n",
       "      <th>Animal Husbandry.1</th>\n",
       "      <td>0.840470</td>\n",
       "      <td>0.782347</td>\n",
       "      <td>-0.430924</td>\n",
       "      <td>1.000000</td>\n",
       "      <td>0.509655</td>\n",
       "    </tr>\n",
       "    <tr>\n",
       "      <th>Fishery.1</th>\n",
       "      <td>0.551712</td>\n",
       "      <td>0.577979</td>\n",
       "      <td>-0.221612</td>\n",
       "      <td>0.509655</td>\n",
       "      <td>1.000000</td>\n",
       "    </tr>\n",
       "  </tbody>\n",
       "</table>\n",
       "</div>"
      ],
      "text/plain": [
       "                                              Indices of Gross Output (preceding year=100)  \\\n",
       "Indices of Gross Output (preceding year=100)                                      1.000000   \n",
       "Farming.1                                                                         0.930986   \n",
       "Forestry.1                                                                       -0.215530   \n",
       "Animal Husbandry.1                                                                0.840470   \n",
       "Fishery.1                                                                         0.551712   \n",
       "\n",
       "                                              Farming.1  Forestry.1  \\\n",
       "Indices of Gross Output (preceding year=100)   0.930986   -0.215530   \n",
       "Farming.1                                      1.000000   -0.183946   \n",
       "Forestry.1                                    -0.183946    1.000000   \n",
       "Animal Husbandry.1                             0.782347   -0.430924   \n",
       "Fishery.1                                      0.577979   -0.221612   \n",
       "\n",
       "                                              Animal Husbandry.1  Fishery.1  \n",
       "Indices of Gross Output (preceding year=100)            0.840470   0.551712  \n",
       "Farming.1                                               0.782347   0.577979  \n",
       "Forestry.1                                             -0.430924  -0.221612  \n",
       "Animal Husbandry.1                                      1.000000   0.509655  \n",
       "Fishery.1                                               0.509655   1.000000  "
      ]
     },
     "execution_count": 10,
     "metadata": {},
     "output_type": "execute_result"
    }
   ],
   "source": [
    "# Correlation check\n",
    "df_corr = df_original_c2.corr()\n",
    "df_corr"
   ]
  },
  {
   "cell_type": "code",
   "execution_count": 11,
   "id": "218c44d3",
   "metadata": {},
   "outputs": [
    {
     "data": {
      "text/plain": [
       "(array([0.5, 1.5, 2.5, 3.5, 4.5]),\n",
       " [Text(0, 0.5, 'Indices of Gross Output (preceding year=100)'),\n",
       "  Text(0, 1.5, 'Farming.1'),\n",
       "  Text(0, 2.5, 'Forestry.1'),\n",
       "  Text(0, 3.5, 'Animal Husbandry.1'),\n",
       "  Text(0, 4.5, 'Fishery.1')])"
      ]
     },
     "execution_count": 11,
     "metadata": {},
     "output_type": "execute_result"
    },
    {
     "data": {
      "image/png": "[encoded data removed]",
      "text/plain": [
       "<Figure size 1080x504 with 2 Axes>"
      ]
     },
     "metadata": {
      "needs_background": "light"
     },
     "output_type": "display_data"
    }
   ],
   "source": [
    "# Correlation Heatmap\n",
    "plt.rcParams['figure.figsize'] = (15,7)\n",
    "sns.heatmap(df_corr,cmap='Blues',annot=True, xticklabels=df_corr.columns.values, yticklabels=df_corr.columns.values)\n",
    "plt.title(\"Data Heatmap\", fontsize=20)\n",
    "plt.xticks(fontsize=10)\n",
    "plt.yticks(fontsize=10)\n",
    "# plt.savefig('_h|eatmap.png')"
   ]
  },
  {
   "cell_type": "markdown",
   "id": "a2bf4f5b",
   "metadata": {},
   "source": [
    "From the correlation map, we find that the column indices of gross output has a high relavance with farming and animal husbandry, it means that we should better abandon one of the variables, which might influence our model or cause redundancy."
   ]
  },
  {
   "cell_type": "code",
   "execution_count": 12,
   "id": "048737b8",
   "metadata": {},
   "outputs": [
    {
     "data": {
      "text/plain": [
       "<seaborn.axisgrid.PairGrid at 0x2217c641760>"
      ]
     },
     "execution_count": 12,
     "metadata": {},
     "output_type": "execute_result"
    },
    {
     "data": {
      "image/png": "[encoded data removed]",
      "text/plain": [
       "<Figure size 1031.88x900 with 30 Axes>"
      ]
     },
     "metadata": {
      "needs_background": "light"
     },
     "output_type": "display_data"
    }
   ],
   "source": [
    "# Creating a pairplot to visualize the similarities and especially difference between the different classes\n",
    "sns.pairplot(data=df_original_c2, hue='Region', palette='Set2')\n",
    "# plt.savefig('pairplot2.png')"
   ]
  },
  {
   "cell_type": "markdown",
   "id": "e6c501cc",
   "metadata": {},
   "source": [
    "From the pairplot shown above, we can clearly find that the blue and green points which refers to north and east region always dissociate with the main groups.Some yellow points which refers to Northweat Region also apart from the main groups."
   ]
  },
  {
   "cell_type": "markdown",
   "id": "4f203dbb",
   "metadata": {},
   "source": [
    "# Machine Learning Modeling"
   ]
  },
  {
   "cell_type": "markdown",
   "id": "3226ddf4",
   "metadata": {},
   "source": [
    "### Data preprocessing"
   ]
  },
  {
   "cell_type": "markdown",
   "id": "5ae848c7",
   "metadata": {},
   "source": [
    "Dump the column Indices of Gross Output as we previously analyzed"
   ]
  },
  {
   "cell_type": "code",
   "execution_count": 13,
   "id": "4cdd492f",
   "metadata": {},
   "outputs": [
    {
     "data": {
      "text/html": [
       "<div>\n",
       "<style scoped>\n",
       "    .dataframe tbody tr th:only-of-type {\n",
       "        vertical-align: middle;\n",
       "    }\n",
       "\n",
       "    .dataframe tbody tr th {\n",
       "        vertical-align: top;\n",
       "    }\n",
       "\n",
       "    .dataframe thead th {\n",
       "        text-align: right;\n",
       "    }\n",
       "</style>\n",
       "<table border=\"1\" class=\"dataframe\">\n",
       "  <thead>\n",
       "    <tr style=\"text-align: right;\">\n",
       "      <th></th>\n",
       "      <th>Region</th>\n",
       "      <th>Farming.1</th>\n",
       "      <th>Forestry.1</th>\n",
       "      <th>Animal Husbandry.1</th>\n",
       "      <th>Fishery.1</th>\n",
       "    </tr>\n",
       "  </thead>\n",
       "  <tbody>\n",
       "    <tr>\n",
       "      <th>0</th>\n",
       "      <td>1</td>\n",
       "      <td>89.2</td>\n",
       "      <td>121.6</td>\n",
       "      <td>63.5</td>\n",
       "      <td>86.2</td>\n",
       "    </tr>\n",
       "    <tr>\n",
       "      <th>1</th>\n",
       "      <td>1</td>\n",
       "      <td>103.2</td>\n",
       "      <td>195.8</td>\n",
       "      <td>83.5</td>\n",
       "      <td>97.9</td>\n",
       "    </tr>\n",
       "    <tr>\n",
       "      <th>2</th>\n",
       "      <td>1</td>\n",
       "      <td>101.7</td>\n",
       "      <td>104.8</td>\n",
       "      <td>100.4</td>\n",
       "      <td>100.6</td>\n",
       "    </tr>\n",
       "  </tbody>\n",
       "</table>\n",
       "</div>"
      ],
      "text/plain": [
       "   Region  Farming.1  Forestry.1  Animal Husbandry.1  Fishery.1\n",
       "0       1       89.2       121.6                63.5       86.2\n",
       "1       1      103.2       195.8                83.5       97.9\n",
       "2       1      101.7       104.8               100.4      100.6"
      ]
     },
     "execution_count": 13,
     "metadata": {},
     "output_type": "execute_result"
    }
   ],
   "source": [
    "df_original_c1 = df_original_c1[['Region','Farming.1','Forestry.1','Animal Husbandry.1','Fishery.1']]\n",
    "df_original_c1.head(3)"
   ]
  },
  {
   "cell_type": "markdown",
   "id": "76918b86",
   "metadata": {},
   "source": [
    "Since there is no null value, so we don't need to fill null value.\n",
    "\n",
    "We need to normalization the data, since the data is gater around 100. Here we apply min-max normalization, which will make all data in the range of 0-1"
   ]
  },
  {
   "cell_type": "code",
   "execution_count": 14,
   "id": "ef4dff10",
   "metadata": {},
   "outputs": [
    {
     "data": {
      "text/html": [
       "<div>\n",
       "<style scoped>\n",
       "    .dataframe tbody tr th:only-of-type {\n",
       "        vertical-align: middle;\n",
       "    }\n",
       "\n",
       "    .dataframe tbody tr th {\n",
       "        vertical-align: top;\n",
       "    }\n",
       "\n",
       "    .dataframe thead th {\n",
       "        text-align: right;\n",
       "    }\n",
       "</style>\n",
       "<table border=\"1\" class=\"dataframe\">\n",
       "  <thead>\n",
       "    <tr style=\"text-align: right;\">\n",
       "      <th></th>\n",
       "      <th>Region</th>\n",
       "      <th>Farming.1</th>\n",
       "      <th>Forestry.1</th>\n",
       "      <th>Animal Husbandry.1</th>\n",
       "      <th>Fishery.1</th>\n",
       "    </tr>\n",
       "  </thead>\n",
       "  <tbody>\n",
       "    <tr>\n",
       "      <th>0</th>\n",
       "      <td>1</td>\n",
       "      <td>0.000000</td>\n",
       "      <td>0.328507</td>\n",
       "      <td>0.000000</td>\n",
       "      <td>0.000000</td>\n",
       "    </tr>\n",
       "    <tr>\n",
       "      <th>1</th>\n",
       "      <td>1</td>\n",
       "      <td>0.717949</td>\n",
       "      <td>1.000000</td>\n",
       "      <td>0.439560</td>\n",
       "      <td>0.493671</td>\n",
       "    </tr>\n",
       "    <tr>\n",
       "      <th>2</th>\n",
       "      <td>1</td>\n",
       "      <td>0.641026</td>\n",
       "      <td>0.176471</td>\n",
       "      <td>0.810989</td>\n",
       "      <td>0.607595</td>\n",
       "    </tr>\n",
       "    <tr>\n",
       "      <th>3</th>\n",
       "      <td>1</td>\n",
       "      <td>0.682051</td>\n",
       "      <td>0.152941</td>\n",
       "      <td>0.817582</td>\n",
       "      <td>0.590717</td>\n",
       "    </tr>\n",
       "    <tr>\n",
       "      <th>4</th>\n",
       "      <td>1</td>\n",
       "      <td>0.728205</td>\n",
       "      <td>0.142081</td>\n",
       "      <td>0.821978</td>\n",
       "      <td>0.299578</td>\n",
       "    </tr>\n",
       "  </tbody>\n",
       "</table>\n",
       "</div>"
      ],
      "text/plain": [
       "   Region  Farming.1  Forestry.1  Animal Husbandry.1  Fishery.1\n",
       "0       1   0.000000    0.328507            0.000000   0.000000\n",
       "1       1   0.717949    1.000000            0.439560   0.493671\n",
       "2       1   0.641026    0.176471            0.810989   0.607595\n",
       "3       1   0.682051    0.152941            0.817582   0.590717\n",
       "4       1   0.728205    0.142081            0.821978   0.299578"
      ]
     },
     "execution_count": 14,
     "metadata": {},
     "output_type": "execute_result"
    }
   ],
   "source": [
    "# min-max normalization\n",
    "df_original_c1['Farming.1'] = [(x - min(df_original_c1['Farming.1']))/(max(df_original_c1['Farming.1']) - min(df_original_c1['Farming.1'])) for x in df_original_c1['Farming.1']]\n",
    "df_original_c1['Forestry.1'] = [(x - min(df_original_c1['Forestry.1']))/(max(df_original_c1['Forestry.1']) - min(df_original_c1['Forestry.1'])) for x in df_original_c1['Forestry.1']]\n",
    "df_original_c1['Animal Husbandry.1'] = [(x - min(df_original_c1['Animal Husbandry.1']))/(max(df_original_c1['Animal Husbandry.1']) - min(df_original_c1['Animal Husbandry.1'])) for x in df_original_c1['Animal Husbandry.1']]\n",
    "df_original_c1['Fishery.1'] = [(x - min(df_original_c1['Fishery.1']))/(max(df_original_c1['Fishery.1']) - min(df_original_c1['Fishery.1'])) for x in df_original_c1['Fishery.1']]\n",
    "df_original_c3 = df_original_c1.copy(deep=True)\n",
    "df_original_c1.head(5)"
   ]
  },
  {
   "cell_type": "markdown",
   "id": "2e634da9",
   "metadata": {},
   "source": [
    "Check the Pearson Correlaion of Features after normalizing the data."
   ]
  },
  {
   "cell_type": "code",
   "execution_count": 15,
   "id": "aaa5ffb2",
   "metadata": {},
   "outputs": [
    {
     "data": {
      "text/plain": [
       "<AxesSubplot:title={'center':'Pearson Correlation of Features'}>"
      ]
     },
     "execution_count": 15,
     "metadata": {},
     "output_type": "execute_result"
    },
    {
     "data": {
      "image/png": "[encoded data removed]",
      "text/plain": [
       "<Figure size 864x864 with 2 Axes>"
      ]
     },
     "metadata": {
      "needs_background": "light"
     },
     "output_type": "display_data"
    }
   ],
   "source": [
    "colormap = plt.cm.viridis\n",
    "plt.figure(figsize=(12,12))\n",
    "plt.title('Pearson Correlation of Features', y=1.05, size=15)\n",
    "sns.heatmap(df_original_c1.astype(float).corr(),linewidths=0.1,vmax=1.0, \n",
    "            square=True, cmap=colormap, linecolor='white', annot=True)"
   ]
  },
  {
   "cell_type": "markdown",
   "id": "828d1a82",
   "metadata": {},
   "source": [
    "This heeatmap is useful for an initial observation, since we can see easily get an idea of predictive value of each feature. After we dump the initial feature indices gross, the correlation values are not so high, so the value is good enough to be features."
   ]
  },
  {
   "cell_type": "markdown",
   "id": "64f2413d",
   "metadata": {},
   "source": [
    "Using groupby() to check the relations between features and regions."
   ]
  },
  {
   "cell_type": "code",
   "execution_count": 16,
   "id": "885a5fea",
   "metadata": {},
   "outputs": [
    {
     "data": {
      "text/html": [
       "<div>\n",
       "<style scoped>\n",
       "    .dataframe tbody tr th:only-of-type {\n",
       "        vertical-align: middle;\n",
       "    }\n",
       "\n",
       "    .dataframe tbody tr th {\n",
       "        vertical-align: top;\n",
       "    }\n",
       "\n",
       "    .dataframe thead tr th {\n",
       "        text-align: left;\n",
       "    }\n",
       "\n",
       "    .dataframe thead tr:last-of-type th {\n",
       "        text-align: right;\n",
       "    }\n",
       "</style>\n",
       "<table border=\"1\" class=\"dataframe\">\n",
       "  <thead>\n",
       "    <tr>\n",
       "      <th></th>\n",
       "      <th colspan=\"3\" halign=\"left\">Animal Husbandry.1</th>\n",
       "    </tr>\n",
       "    <tr>\n",
       "      <th></th>\n",
       "      <th>mean</th>\n",
       "      <th>count</th>\n",
       "      <th>sum</th>\n",
       "    </tr>\n",
       "    <tr>\n",
       "      <th>Region</th>\n",
       "      <th></th>\n",
       "      <th></th>\n",
       "      <th></th>\n",
       "    </tr>\n",
       "  </thead>\n",
       "  <tbody>\n",
       "    <tr>\n",
       "      <th>Central South Region</th>\n",
       "      <td>95.800000</td>\n",
       "      <td>6</td>\n",
       "      <td>574.8</td>\n",
       "    </tr>\n",
       "    <tr>\n",
       "      <th>East Region</th>\n",
       "      <td>94.600000</td>\n",
       "      <td>7</td>\n",
       "      <td>662.2</td>\n",
       "    </tr>\n",
       "    <tr>\n",
       "      <th>North Region</th>\n",
       "      <td>89.800000</td>\n",
       "      <td>5</td>\n",
       "      <td>449.0</td>\n",
       "    </tr>\n",
       "    <tr>\n",
       "      <th>Northeast Region</th>\n",
       "      <td>100.933333</td>\n",
       "      <td>3</td>\n",
       "      <td>302.8</td>\n",
       "    </tr>\n",
       "    <tr>\n",
       "      <th>Northwest region</th>\n",
       "      <td>101.240000</td>\n",
       "      <td>5</td>\n",
       "      <td>506.2</td>\n",
       "    </tr>\n",
       "    <tr>\n",
       "      <th>Southwest Region</th>\n",
       "      <td>99.940000</td>\n",
       "      <td>5</td>\n",
       "      <td>499.7</td>\n",
       "    </tr>\n",
       "  </tbody>\n",
       "</table>\n",
       "</div>"
      ],
      "text/plain": [
       "                     Animal Husbandry.1             \n",
       "                                   mean count    sum\n",
       "Region                                              \n",
       "Central South Region          95.800000     6  574.8\n",
       "East Region                   94.600000     7  662.2\n",
       "North Region                  89.800000     5  449.0\n",
       "Northeast Region             100.933333     3  302.8\n",
       "Northwest region             101.240000     5  506.2\n",
       "Southwest Region              99.940000     5  499.7"
      ]
     },
     "execution_count": 16,
     "metadata": {},
     "output_type": "execute_result"
    }
   ],
   "source": [
    "df_original_c2[['Region', 'Animal Husbandry.1']].groupby(['Region'], as_index=False).agg(['mean', 'count', 'sum'])"
   ]
  },
  {
   "cell_type": "code",
   "execution_count": 17,
   "id": "538a4765",
   "metadata": {},
   "outputs": [
    {
     "data": {
      "text/html": [
       "<div>\n",
       "<style scoped>\n",
       "    .dataframe tbody tr th:only-of-type {\n",
       "        vertical-align: middle;\n",
       "    }\n",
       "\n",
       "    .dataframe tbody tr th {\n",
       "        vertical-align: top;\n",
       "    }\n",
       "\n",
       "    .dataframe thead tr th {\n",
       "        text-align: left;\n",
       "    }\n",
       "\n",
       "    .dataframe thead tr:last-of-type th {\n",
       "        text-align: right;\n",
       "    }\n",
       "</style>\n",
       "<table border=\"1\" class=\"dataframe\">\n",
       "  <thead>\n",
       "    <tr>\n",
       "      <th></th>\n",
       "      <th colspan=\"3\" halign=\"left\">Forestry.1</th>\n",
       "    </tr>\n",
       "    <tr>\n",
       "      <th></th>\n",
       "      <th>mean</th>\n",
       "      <th>count</th>\n",
       "      <th>sum</th>\n",
       "    </tr>\n",
       "    <tr>\n",
       "      <th>Region</th>\n",
       "      <th></th>\n",
       "      <th></th>\n",
       "      <th></th>\n",
       "    </tr>\n",
       "  </thead>\n",
       "  <tbody>\n",
       "    <tr>\n",
       "      <th>Central South Region</th>\n",
       "      <td>107.133333</td>\n",
       "      <td>6</td>\n",
       "      <td>642.8</td>\n",
       "    </tr>\n",
       "    <tr>\n",
       "      <th>East Region</th>\n",
       "      <td>105.942857</td>\n",
       "      <td>7</td>\n",
       "      <td>741.6</td>\n",
       "    </tr>\n",
       "    <tr>\n",
       "      <th>North Region</th>\n",
       "      <td>125.080000</td>\n",
       "      <td>5</td>\n",
       "      <td>625.4</td>\n",
       "    </tr>\n",
       "    <tr>\n",
       "      <th>Northeast Region</th>\n",
       "      <td>94.966667</td>\n",
       "      <td>3</td>\n",
       "      <td>284.9</td>\n",
       "    </tr>\n",
       "    <tr>\n",
       "      <th>Northwest region</th>\n",
       "      <td>108.960000</td>\n",
       "      <td>5</td>\n",
       "      <td>544.8</td>\n",
       "    </tr>\n",
       "    <tr>\n",
       "      <th>Southwest Region</th>\n",
       "      <td>106.380000</td>\n",
       "      <td>5</td>\n",
       "      <td>531.9</td>\n",
       "    </tr>\n",
       "  </tbody>\n",
       "</table>\n",
       "</div>"
      ],
      "text/plain": [
       "                      Forestry.1             \n",
       "                            mean count    sum\n",
       "Region                                       \n",
       "Central South Region  107.133333     6  642.8\n",
       "East Region           105.942857     7  741.6\n",
       "North Region          125.080000     5  625.4\n",
       "Northeast Region       94.966667     3  284.9\n",
       "Northwest region      108.960000     5  544.8\n",
       "Southwest Region      106.380000     5  531.9"
      ]
     },
     "execution_count": 17,
     "metadata": {},
     "output_type": "execute_result"
    }
   ],
   "source": [
    "df_original_c2[['Region', 'Forestry.1']].groupby(['Region'], as_index=False).agg(['mean', 'count', 'sum'])"
   ]
  },
  {
   "cell_type": "code",
   "execution_count": 18,
   "id": "325c9654",
   "metadata": {},
   "outputs": [
    {
     "data": {
      "text/html": [
       "<div>\n",
       "<style scoped>\n",
       "    .dataframe tbody tr th:only-of-type {\n",
       "        vertical-align: middle;\n",
       "    }\n",
       "\n",
       "    .dataframe tbody tr th {\n",
       "        vertical-align: top;\n",
       "    }\n",
       "\n",
       "    .dataframe thead tr th {\n",
       "        text-align: left;\n",
       "    }\n",
       "\n",
       "    .dataframe thead tr:last-of-type th {\n",
       "        text-align: right;\n",
       "    }\n",
       "</style>\n",
       "<table border=\"1\" class=\"dataframe\">\n",
       "  <thead>\n",
       "    <tr>\n",
       "      <th></th>\n",
       "      <th colspan=\"3\" halign=\"left\">Fishery.1</th>\n",
       "    </tr>\n",
       "    <tr>\n",
       "      <th></th>\n",
       "      <th>mean</th>\n",
       "      <th>count</th>\n",
       "      <th>sum</th>\n",
       "    </tr>\n",
       "    <tr>\n",
       "      <th>Region</th>\n",
       "      <th></th>\n",
       "      <th></th>\n",
       "      <th></th>\n",
       "    </tr>\n",
       "  </thead>\n",
       "  <tbody>\n",
       "    <tr>\n",
       "      <th>Central South Region</th>\n",
       "      <td>105.70</td>\n",
       "      <td>6</td>\n",
       "      <td>634.2</td>\n",
       "    </tr>\n",
       "    <tr>\n",
       "      <th>East Region</th>\n",
       "      <td>101.10</td>\n",
       "      <td>7</td>\n",
       "      <td>707.7</td>\n",
       "    </tr>\n",
       "    <tr>\n",
       "      <th>North Region</th>\n",
       "      <td>95.64</td>\n",
       "      <td>5</td>\n",
       "      <td>478.2</td>\n",
       "    </tr>\n",
       "    <tr>\n",
       "      <th>Northeast Region</th>\n",
       "      <td>103.70</td>\n",
       "      <td>3</td>\n",
       "      <td>311.1</td>\n",
       "    </tr>\n",
       "    <tr>\n",
       "      <th>Northwest region</th>\n",
       "      <td>100.54</td>\n",
       "      <td>5</td>\n",
       "      <td>502.7</td>\n",
       "    </tr>\n",
       "    <tr>\n",
       "      <th>Southwest Region</th>\n",
       "      <td>104.16</td>\n",
       "      <td>5</td>\n",
       "      <td>520.8</td>\n",
       "    </tr>\n",
       "  </tbody>\n",
       "</table>\n",
       "</div>"
      ],
      "text/plain": [
       "                     Fishery.1             \n",
       "                          mean count    sum\n",
       "Region                                     \n",
       "Central South Region    105.70     6  634.2\n",
       "East Region             101.10     7  707.7\n",
       "North Region             95.64     5  478.2\n",
       "Northeast Region        103.70     3  311.1\n",
       "Northwest region        100.54     5  502.7\n",
       "Southwest Region        104.16     5  520.8"
      ]
     },
     "execution_count": 18,
     "metadata": {},
     "output_type": "execute_result"
    }
   ],
   "source": [
    "df_original_c2[['Region', 'Fishery.1']].groupby(['Region'], as_index=False).agg(['mean', 'count', 'sum'])"
   ]
  },
  {
   "cell_type": "code",
   "execution_count": 19,
   "id": "b3b659a2",
   "metadata": {},
   "outputs": [
    {
     "data": {
      "text/html": [
       "<div>\n",
       "<style scoped>\n",
       "    .dataframe tbody tr th:only-of-type {\n",
       "        vertical-align: middle;\n",
       "    }\n",
       "\n",
       "    .dataframe tbody tr th {\n",
       "        vertical-align: top;\n",
       "    }\n",
       "\n",
       "    .dataframe thead tr th {\n",
       "        text-align: left;\n",
       "    }\n",
       "\n",
       "    .dataframe thead tr:last-of-type th {\n",
       "        text-align: right;\n",
       "    }\n",
       "</style>\n",
       "<table border=\"1\" class=\"dataframe\">\n",
       "  <thead>\n",
       "    <tr>\n",
       "      <th></th>\n",
       "      <th colspan=\"3\" halign=\"left\">Farming.1</th>\n",
       "    </tr>\n",
       "    <tr>\n",
       "      <th></th>\n",
       "      <th>mean</th>\n",
       "      <th>count</th>\n",
       "      <th>sum</th>\n",
       "    </tr>\n",
       "    <tr>\n",
       "      <th>Region</th>\n",
       "      <th></th>\n",
       "      <th></th>\n",
       "      <th></th>\n",
       "    </tr>\n",
       "  </thead>\n",
       "  <tbody>\n",
       "    <tr>\n",
       "      <th>Central South Region</th>\n",
       "      <td>105.233333</td>\n",
       "      <td>6</td>\n",
       "      <td>631.4</td>\n",
       "    </tr>\n",
       "    <tr>\n",
       "      <th>East Region</th>\n",
       "      <td>101.714286</td>\n",
       "      <td>7</td>\n",
       "      <td>712.0</td>\n",
       "    </tr>\n",
       "    <tr>\n",
       "      <th>North Region</th>\n",
       "      <td>100.000000</td>\n",
       "      <td>5</td>\n",
       "      <td>500.0</td>\n",
       "    </tr>\n",
       "    <tr>\n",
       "      <th>Northeast Region</th>\n",
       "      <td>104.533333</td>\n",
       "      <td>3</td>\n",
       "      <td>313.6</td>\n",
       "    </tr>\n",
       "    <tr>\n",
       "      <th>Northwest region</th>\n",
       "      <td>105.280000</td>\n",
       "      <td>5</td>\n",
       "      <td>526.4</td>\n",
       "    </tr>\n",
       "    <tr>\n",
       "      <th>Southwest Region</th>\n",
       "      <td>106.940000</td>\n",
       "      <td>5</td>\n",
       "      <td>534.7</td>\n",
       "    </tr>\n",
       "  </tbody>\n",
       "</table>\n",
       "</div>"
      ],
      "text/plain": [
       "                       Farming.1             \n",
       "                            mean count    sum\n",
       "Region                                       \n",
       "Central South Region  105.233333     6  631.4\n",
       "East Region           101.714286     7  712.0\n",
       "North Region          100.000000     5  500.0\n",
       "Northeast Region      104.533333     3  313.6\n",
       "Northwest region      105.280000     5  526.4\n",
       "Southwest Region      106.940000     5  534.7"
      ]
     },
     "execution_count": 19,
     "metadata": {},
     "output_type": "execute_result"
    }
   ],
   "source": [
    "df_original_c2[['Region', 'Farming.1']].groupby(['Region'], as_index=False).agg(['mean', 'count', 'sum'])"
   ]
  },
  {
   "cell_type": "markdown",
   "id": "f9b1162d",
   "metadata": {},
   "source": [
    "Divide the dataframe into X (features), and y (classes)"
   ]
  },
  {
   "cell_type": "code",
   "execution_count": 20,
   "id": "7369d820",
   "metadata": {},
   "outputs": [],
   "source": [
    "X = df_original_c1[['Farming.1','Forestry.1','Animal Husbandry.1','Fishery.1']].values\n",
    "y = df_original_c1[['Region']].values"
   ]
  },
  {
   "cell_type": "markdown",
   "id": "145ec78e",
   "metadata": {},
   "source": [
    "### Train Model"
   ]
  },
  {
   "cell_type": "markdown",
   "id": "fa38b7ae",
   "metadata": {},
   "source": [
    "##### 1. The first model is support vector machine"
   ]
  },
  {
   "cell_type": "code",
   "execution_count": 21,
   "id": "c90ef92b",
   "metadata": {},
   "outputs": [],
   "source": [
    "x_train, x_test, y_train, y_test = train_test_split(X, y, random_state=2, train_size=0.9)"
   ]
  },
  {
   "cell_type": "markdown",
   "id": "fafdb737",
   "metadata": {},
   "source": [
    "SVC with kernel rbf, gamma = 50, decision function shape = ovr"
   ]
  },
  {
   "cell_type": "code",
   "execution_count": 22,
   "id": "bb622a49",
   "metadata": {},
   "outputs": [
    {
     "name": "stderr",
     "output_type": "stream",
     "text": [
      "e:\\python projects\\trial peoject\\venv\\lib\\site-packages\\sklearn\\utils\\validation.py:63: DataConversionWarning: A column-vector y was passed when a 1d array was expected. Please change the shape of y to (n_samples, ), for example using ravel().\n",
      "  return f(*args, **kwargs)\n"
     ]
    },
    {
     "data": {
      "text/plain": [
       "SVC(C=0.8, gamma=50)"
      ]
     },
     "execution_count": 22,
     "metadata": {},
     "output_type": "execute_result"
    }
   ],
   "source": [
    "# clf = svm.SVC(C=0.1, kernel='linear', decision_function_shape='ovr')\n",
    "clf = svm.SVC(C=0.8, kernel='rbf', gamma=50, decision_function_shape='ovr')\n",
    "clf.fit(x_train, y_train)"
   ]
  },
  {
   "cell_type": "code",
   "execution_count": 23,
   "id": "f8127f98",
   "metadata": {},
   "outputs": [
    {
     "name": "stdout",
     "output_type": "stream",
     "text": [
      "The score of the trained model is 0.8518518518518519\n"
     ]
    },
    {
     "data": {
      "text/plain": [
       "array([3, 3, 1, 4, 6, 4, 3, 3, 1, 2, 1, 4, 2, 6, 4, 4, 1, 3, 6, 5, 4, 3,\n",
       "       4, 6, 3, 4, 3], dtype=int64)"
      ]
     },
     "execution_count": 23,
     "metadata": {},
     "output_type": "execute_result"
    }
   ],
   "source": [
    "print('The score of the trained model is', clf.score(x_train, y_train))  # Accuracy\n",
    "y_hat = clf.predict(x_train)\n",
    "y_hat"
   ]
  },
  {
   "cell_type": "markdown",
   "id": "6cf8957e",
   "metadata": {},
   "source": [
    "Gamma is a parameter of RBF function after it is selected as kernel. It implicitly determines the distribution of data mapped to the new feature space. The larger the gamma, the less the support vector. The smaller the gamma, the more the support vector. The number of support vectors affects the speed of training and prediction."
   ]
  },
  {
   "cell_type": "code",
   "execution_count": 24,
   "id": "ff454ef4",
   "metadata": {},
   "outputs": [
    {
     "name": "stderr",
     "output_type": "stream",
     "text": [
      "e:\\python projects\\trial peoject\\venv\\lib\\site-packages\\sklearn\\utils\\validation.py:63: DataConversionWarning: A column-vector y was passed when a 1d array was expected. Please change the shape of y to (n_samples, ), for example using ravel().\n",
      "  return f(*args, **kwargs)\n",
      "e:\\python projects\\trial peoject\\venv\\lib\\site-packages\\sklearn\\utils\\validation.py:63: DataConversionWarning: A column-vector y was passed when a 1d array was expected. Please change the shape of y to (n_samples, ), for example using ravel().\n",
      "  return f(*args, **kwargs)\n",
      "e:\\python projects\\trial peoject\\venv\\lib\\site-packages\\sklearn\\utils\\validation.py:63: DataConversionWarning: A column-vector y was passed when a 1d array was expected. Please change the shape of y to (n_samples, ), for example using ravel().\n",
      "  return f(*args, **kwargs)\n",
      "e:\\python projects\\trial peoject\\venv\\lib\\site-packages\\sklearn\\utils\\validation.py:63: DataConversionWarning: A column-vector y was passed when a 1d array was expected. Please change the shape of y to (n_samples, ), for example using ravel().\n",
      "  return f(*args, **kwargs)\n",
      "e:\\python projects\\trial peoject\\venv\\lib\\site-packages\\sklearn\\utils\\validation.py:63: DataConversionWarning: A column-vector y was passed when a 1d array was expected. Please change the shape of y to (n_samples, ), for example using ravel().\n",
      "  return f(*args, **kwargs)\n",
      "e:\\python projects\\trial peoject\\venv\\lib\\site-packages\\sklearn\\utils\\validation.py:63: DataConversionWarning: A column-vector y was passed when a 1d array was expected. Please change the shape of y to (n_samples, ), for example using ravel().\n",
      "  return f(*args, **kwargs)\n",
      "e:\\python projects\\trial peoject\\venv\\lib\\site-packages\\sklearn\\utils\\validation.py:63: DataConversionWarning: A column-vector y was passed when a 1d array was expected. Please change the shape of y to (n_samples, ), for example using ravel().\n",
      "  return f(*args, **kwargs)\n",
      "e:\\python projects\\trial peoject\\venv\\lib\\site-packages\\sklearn\\utils\\validation.py:63: DataConversionWarning: A column-vector y was passed when a 1d array was expected. Please change the shape of y to (n_samples, ), for example using ravel().\n",
      "  return f(*args, **kwargs)\n",
      "e:\\python projects\\trial peoject\\venv\\lib\\site-packages\\sklearn\\utils\\validation.py:63: DataConversionWarning: A column-vector y was passed when a 1d array was expected. Please change the shape of y to (n_samples, ), for example using ravel().\n",
      "  return f(*args, **kwargs)\n",
      "e:\\python projects\\trial peoject\\venv\\lib\\site-packages\\sklearn\\utils\\validation.py:63: DataConversionWarning: A column-vector y was passed when a 1d array was expected. Please change the shape of y to (n_samples, ), for example using ravel().\n",
      "  return f(*args, **kwargs)\n",
      "e:\\python projects\\trial peoject\\venv\\lib\\site-packages\\sklearn\\utils\\validation.py:63: DataConversionWarning: A column-vector y was passed when a 1d array was expected. Please change the shape of y to (n_samples, ), for example using ravel().\n",
      "  return f(*args, **kwargs)\n",
      "e:\\python projects\\trial peoject\\venv\\lib\\site-packages\\sklearn\\utils\\validation.py:63: DataConversionWarning: A column-vector y was passed when a 1d array was expected. Please change the shape of y to (n_samples, ), for example using ravel().\n",
      "  return f(*args, **kwargs)\n",
      "e:\\python projects\\trial peoject\\venv\\lib\\site-packages\\sklearn\\utils\\validation.py:63: DataConversionWarning: A column-vector y was passed when a 1d array was expected. Please change the shape of y to (n_samples, ), for example using ravel().\n",
      "  return f(*args, **kwargs)\n",
      "e:\\python projects\\trial peoject\\venv\\lib\\site-packages\\sklearn\\utils\\validation.py:63: DataConversionWarning: A column-vector y was passed when a 1d array was expected. Please change the shape of y to (n_samples, ), for example using ravel().\n",
      "  return f(*args, **kwargs)\n",
      "e:\\python projects\\trial peoject\\venv\\lib\\site-packages\\sklearn\\utils\\validation.py:63: DataConversionWarning: A column-vector y was passed when a 1d array was expected. Please change the shape of y to (n_samples, ), for example using ravel().\n",
      "  return f(*args, **kwargs)\n",
      "e:\\python projects\\trial peoject\\venv\\lib\\site-packages\\sklearn\\utils\\validation.py:63: DataConversionWarning: A column-vector y was passed when a 1d array was expected. Please change the shape of y to (n_samples, ), for example using ravel().\n",
      "  return f(*args, **kwargs)\n",
      "e:\\python projects\\trial peoject\\venv\\lib\\site-packages\\sklearn\\utils\\validation.py:63: DataConversionWarning: A column-vector y was passed when a 1d array was expected. Please change the shape of y to (n_samples, ), for example using ravel().\n",
      "  return f(*args, **kwargs)\n",
      "e:\\python projects\\trial peoject\\venv\\lib\\site-packages\\sklearn\\utils\\validation.py:63: DataConversionWarning: A column-vector y was passed when a 1d array was expected. Please change the shape of y to (n_samples, ), for example using ravel().\n",
      "  return f(*args, **kwargs)\n",
      "e:\\python projects\\trial peoject\\venv\\lib\\site-packages\\sklearn\\utils\\validation.py:63: DataConversionWarning: A column-vector y was passed when a 1d array was expected. Please change the shape of y to (n_samples, ), for example using ravel().\n",
      "  return f(*args, **kwargs)\n",
      "e:\\python projects\\trial peoject\\venv\\lib\\site-packages\\sklearn\\utils\\validation.py:63: DataConversionWarning: A column-vector y was passed when a 1d array was expected. Please change the shape of y to (n_samples, ), for example using ravel().\n",
      "  return f(*args, **kwargs)\n",
      "e:\\python projects\\trial peoject\\venv\\lib\\site-packages\\sklearn\\utils\\validation.py:63: DataConversionWarning: A column-vector y was passed when a 1d array was expected. Please change the shape of y to (n_samples, ), for example using ravel().\n",
      "  return f(*args, **kwargs)\n",
      "e:\\python projects\\trial peoject\\venv\\lib\\site-packages\\sklearn\\utils\\validation.py:63: DataConversionWarning: A column-vector y was passed when a 1d array was expected. Please change the shape of y to (n_samples, ), for example using ravel().\n",
      "  return f(*args, **kwargs)\n",
      "e:\\python projects\\trial peoject\\venv\\lib\\site-packages\\sklearn\\utils\\validation.py:63: DataConversionWarning: A column-vector y was passed when a 1d array was expected. Please change the shape of y to (n_samples, ), for example using ravel().\n",
      "  return f(*args, **kwargs)\n",
      "e:\\python projects\\trial peoject\\venv\\lib\\site-packages\\sklearn\\utils\\validation.py:63: DataConversionWarning: A column-vector y was passed when a 1d array was expected. Please change the shape of y to (n_samples, ), for example using ravel().\n",
      "  return f(*args, **kwargs)\n",
      "e:\\python projects\\trial peoject\\venv\\lib\\site-packages\\sklearn\\utils\\validation.py:63: DataConversionWarning: A column-vector y was passed when a 1d array was expected. Please change the shape of y to (n_samples, ), for example using ravel().\n",
      "  return f(*args, **kwargs)\n",
      "e:\\python projects\\trial peoject\\venv\\lib\\site-packages\\sklearn\\utils\\validation.py:63: DataConversionWarning: A column-vector y was passed when a 1d array was expected. Please change the shape of y to (n_samples, ), for example using ravel().\n",
      "  return f(*args, **kwargs)\n",
      "e:\\python projects\\trial peoject\\venv\\lib\\site-packages\\sklearn\\utils\\validation.py:63: DataConversionWarning: A column-vector y was passed when a 1d array was expected. Please change the shape of y to (n_samples, ), for example using ravel().\n",
      "  return f(*args, **kwargs)\n",
      "e:\\python projects\\trial peoject\\venv\\lib\\site-packages\\sklearn\\utils\\validation.py:63: DataConversionWarning: A column-vector y was passed when a 1d array was expected. Please change the shape of y to (n_samples, ), for example using ravel().\n",
      "  return f(*args, **kwargs)\n",
      "e:\\python projects\\trial peoject\\venv\\lib\\site-packages\\sklearn\\utils\\validation.py:63: DataConversionWarning: A column-vector y was passed when a 1d array was expected. Please change the shape of y to (n_samples, ), for example using ravel().\n",
      "  return f(*args, **kwargs)\n",
      "e:\\python projects\\trial peoject\\venv\\lib\\site-packages\\sklearn\\utils\\validation.py:63: DataConversionWarning: A column-vector y was passed when a 1d array was expected. Please change the shape of y to (n_samples, ), for example using ravel().\n",
      "  return f(*args, **kwargs)\n",
      "e:\\python projects\\trial peoject\\venv\\lib\\site-packages\\sklearn\\utils\\validation.py:63: DataConversionWarning: A column-vector y was passed when a 1d array was expected. Please change the shape of y to (n_samples, ), for example using ravel().\n",
      "  return f(*args, **kwargs)\n",
      "e:\\python projects\\trial peoject\\venv\\lib\\site-packages\\sklearn\\utils\\validation.py:63: DataConversionWarning: A column-vector y was passed when a 1d array was expected. Please change the shape of y to (n_samples, ), for example using ravel().\n",
      "  return f(*args, **kwargs)\n",
      "e:\\python projects\\trial peoject\\venv\\lib\\site-packages\\sklearn\\utils\\validation.py:63: DataConversionWarning: A column-vector y was passed when a 1d array was expected. Please change the shape of y to (n_samples, ), for example using ravel().\n",
      "  return f(*args, **kwargs)\n",
      "e:\\python projects\\trial peoject\\venv\\lib\\site-packages\\sklearn\\utils\\validation.py:63: DataConversionWarning: A column-vector y was passed when a 1d array was expected. Please change the shape of y to (n_samples, ), for example using ravel().\n",
      "  return f(*args, **kwargs)\n",
      "e:\\python projects\\trial peoject\\venv\\lib\\site-packages\\sklearn\\utils\\validation.py:63: DataConversionWarning: A column-vector y was passed when a 1d array was expected. Please change the shape of y to (n_samples, ), for example using ravel().\n",
      "  return f(*args, **kwargs)\n",
      "e:\\python projects\\trial peoject\\venv\\lib\\site-packages\\sklearn\\utils\\validation.py:63: DataConversionWarning: A column-vector y was passed when a 1d array was expected. Please change the shape of y to (n_samples, ), for example using ravel().\n",
      "  return f(*args, **kwargs)\n",
      "e:\\python projects\\trial peoject\\venv\\lib\\site-packages\\sklearn\\utils\\validation.py:63: DataConversionWarning: A column-vector y was passed when a 1d array was expected. Please change the shape of y to (n_samples, ), for example using ravel().\n",
      "  return f(*args, **kwargs)\n",
      "e:\\python projects\\trial peoject\\venv\\lib\\site-packages\\sklearn\\utils\\validation.py:63: DataConversionWarning: A column-vector y was passed when a 1d array was expected. Please change the shape of y to (n_samples, ), for example using ravel().\n",
      "  return f(*args, **kwargs)\n",
      "e:\\python projects\\trial peoject\\venv\\lib\\site-packages\\sklearn\\utils\\validation.py:63: DataConversionWarning: A column-vector y was passed when a 1d array was expected. Please change the shape of y to (n_samples, ), for example using ravel().\n",
      "  return f(*args, **kwargs)\n",
      "e:\\python projects\\trial peoject\\venv\\lib\\site-packages\\sklearn\\utils\\validation.py:63: DataConversionWarning: A column-vector y was passed when a 1d array was expected. Please change the shape of y to (n_samples, ), for example using ravel().\n",
      "  return f(*args, **kwargs)\n",
      "e:\\python projects\\trial peoject\\venv\\lib\\site-packages\\sklearn\\utils\\validation.py:63: DataConversionWarning: A column-vector y was passed when a 1d array was expected. Please change the shape of y to (n_samples, ), for example using ravel().\n",
      "  return f(*args, **kwargs)\n",
      "e:\\python projects\\trial peoject\\venv\\lib\\site-packages\\sklearn\\utils\\validation.py:63: DataConversionWarning: A column-vector y was passed when a 1d array was expected. Please change the shape of y to (n_samples, ), for example using ravel().\n",
      "  return f(*args, **kwargs)\n",
      "e:\\python projects\\trial peoject\\venv\\lib\\site-packages\\sklearn\\utils\\validation.py:63: DataConversionWarning: A column-vector y was passed when a 1d array was expected. Please change the shape of y to (n_samples, ), for example using ravel().\n",
      "  return f(*args, **kwargs)\n",
      "e:\\python projects\\trial peoject\\venv\\lib\\site-packages\\sklearn\\utils\\validation.py:63: DataConversionWarning: A column-vector y was passed when a 1d array was expected. Please change the shape of y to (n_samples, ), for example using ravel().\n",
      "  return f(*args, **kwargs)\n",
      "e:\\python projects\\trial peoject\\venv\\lib\\site-packages\\sklearn\\utils\\validation.py:63: DataConversionWarning: A column-vector y was passed when a 1d array was expected. Please change the shape of y to (n_samples, ), for example using ravel().\n",
      "  return f(*args, **kwargs)\n",
      "e:\\python projects\\trial peoject\\venv\\lib\\site-packages\\sklearn\\utils\\validation.py:63: DataConversionWarning: A column-vector y was passed when a 1d array was expected. Please change the shape of y to (n_samples, ), for example using ravel().\n",
      "  return f(*args, **kwargs)\n",
      "e:\\python projects\\trial peoject\\venv\\lib\\site-packages\\sklearn\\utils\\validation.py:63: DataConversionWarning: A column-vector y was passed when a 1d array was expected. Please change the shape of y to (n_samples, ), for example using ravel().\n",
      "  return f(*args, **kwargs)\n",
      "e:\\python projects\\trial peoject\\venv\\lib\\site-packages\\sklearn\\utils\\validation.py:63: DataConversionWarning: A column-vector y was passed when a 1d array was expected. Please change the shape of y to (n_samples, ), for example using ravel().\n",
      "  return f(*args, **kwargs)\n",
      "e:\\python projects\\trial peoject\\venv\\lib\\site-packages\\sklearn\\utils\\validation.py:63: DataConversionWarning: A column-vector y was passed when a 1d array was expected. Please change the shape of y to (n_samples, ), for example using ravel().\n",
      "  return f(*args, **kwargs)\n",
      "e:\\python projects\\trial peoject\\venv\\lib\\site-packages\\sklearn\\utils\\validation.py:63: DataConversionWarning: A column-vector y was passed when a 1d array was expected. Please change the shape of y to (n_samples, ), for example using ravel().\n",
      "  return f(*args, **kwargs)\n",
      "e:\\python projects\\trial peoject\\venv\\lib\\site-packages\\sklearn\\utils\\validation.py:63: DataConversionWarning: A column-vector y was passed when a 1d array was expected. Please change the shape of y to (n_samples, ), for example using ravel().\n",
      "  return f(*args, **kwargs)\n",
      "e:\\python projects\\trial peoject\\venv\\lib\\site-packages\\sklearn\\utils\\validation.py:63: DataConversionWarning: A column-vector y was passed when a 1d array was expected. Please change the shape of y to (n_samples, ), for example using ravel().\n",
      "  return f(*args, **kwargs)\n",
      "e:\\python projects\\trial peoject\\venv\\lib\\site-packages\\sklearn\\utils\\validation.py:63: DataConversionWarning: A column-vector y was passed when a 1d array was expected. Please change the shape of y to (n_samples, ), for example using ravel().\n",
      "  return f(*args, **kwargs)\n",
      "e:\\python projects\\trial peoject\\venv\\lib\\site-packages\\sklearn\\utils\\validation.py:63: DataConversionWarning: A column-vector y was passed when a 1d array was expected. Please change the shape of y to (n_samples, ), for example using ravel().\n",
      "  return f(*args, **kwargs)\n",
      "e:\\python projects\\trial peoject\\venv\\lib\\site-packages\\sklearn\\utils\\validation.py:63: DataConversionWarning: A column-vector y was passed when a 1d array was expected. Please change the shape of y to (n_samples, ), for example using ravel().\n",
      "  return f(*args, **kwargs)\n",
      "e:\\python projects\\trial peoject\\venv\\lib\\site-packages\\sklearn\\utils\\validation.py:63: DataConversionWarning: A column-vector y was passed when a 1d array was expected. Please change the shape of y to (n_samples, ), for example using ravel().\n",
      "  return f(*args, **kwargs)\n",
      "e:\\python projects\\trial peoject\\venv\\lib\\site-packages\\sklearn\\utils\\validation.py:63: DataConversionWarning: A column-vector y was passed when a 1d array was expected. Please change the shape of y to (n_samples, ), for example using ravel().\n",
      "  return f(*args, **kwargs)\n",
      "e:\\python projects\\trial peoject\\venv\\lib\\site-packages\\sklearn\\utils\\validation.py:63: DataConversionWarning: A column-vector y was passed when a 1d array was expected. Please change the shape of y to (n_samples, ), for example using ravel().\n",
      "  return f(*args, **kwargs)\n",
      "e:\\python projects\\trial peoject\\venv\\lib\\site-packages\\sklearn\\utils\\validation.py:63: DataConversionWarning: A column-vector y was passed when a 1d array was expected. Please change the shape of y to (n_samples, ), for example using ravel().\n",
      "  return f(*args, **kwargs)\n"
     ]
    },
    {
     "data": {
      "image/png": "[encoded data removed]",
      "text/plain": [
       "<Figure size 1080x504 with 1 Axes>"
      ]
     },
     "metadata": {
      "needs_background": "light"
     },
     "output_type": "display_data"
    }
   ],
   "source": [
    "accu = []\n",
    "for i in range(1,60):\n",
    "    clf = svm.SVC(C=0.8, kernel='rbf', gamma=i, decision_function_shape='ovr')\n",
    "    clf.fit(x_train, y_train)\n",
    "    accu.append(clf.score(x_train, y_train))\n",
    "    \n",
    "plt.plot(range(1,60),accu)\n",
    "plt.title(\"The Curve to check the effect of gamma\")\n",
    "plt.xlabel(\"Gamma\")\n",
    "plt.ylabel(\"Accuracy\")\n",
    "plt.show()"
   ]
  },
  {
   "cell_type": "code",
   "execution_count": 25,
   "id": "d6811f5d",
   "metadata": {},
   "outputs": [
    {
     "name": "stdout",
     "output_type": "stream",
     "text": [
      "0.25\n"
     ]
    },
    {
     "data": {
      "text/plain": [
       "array([4, 3, 4, 3], dtype=int64)"
      ]
     },
     "execution_count": 25,
     "metadata": {},
     "output_type": "execute_result"
    }
   ],
   "source": [
    "print(clf.score(x_test, y_test))\n",
    "y_hat = clf.predict(x_test)\n",
    "y_hat"
   ]
  },
  {
   "cell_type": "code",
   "execution_count": 26,
   "id": "9b95cf67",
   "metadata": {},
   "outputs": [
    {
     "data": {
      "text/plain": [
       "array([[0.71794872, 1.        , 0.43956044, 0.49367089],\n",
       "       [0.72820513, 0.14208145, 0.82197802, 0.29957806],\n",
       "       [0.68205128, 0.15294118, 0.81758242, 0.5907173 ],\n",
       "       [0.64102564, 0.17647059, 0.81098901, 0.60759494],\n",
       "       [0.83589744, 0.08325792, 0.7956044 , 0.69620253],\n",
       "       [0.84102564, 0.        , 0.83296703, 0.7721519 ],\n",
       "       [0.68205128, 0.17918552, 0.83956044, 0.74683544],\n",
       "       [0.75897436, 0.17013575, 0.81318681, 0.76371308],\n",
       "       [0.6974359 , 0.1800905 , 0.63296703, 0.55274262],\n",
       "       [0.71282051, 0.21628959, 0.7010989 , 0.47257384],\n",
       "       [0.68205128, 0.15384615, 0.67692308, 0.67510549],\n",
       "       [0.72820513, 0.1719457 , 0.76263736, 0.72151899],\n",
       "       [0.75897436, 0.17918552, 0.81538462, 0.62869198],\n",
       "       [0.15384615, 0.2361991 , 0.38241758, 0.58649789],\n",
       "       [0.83076923, 0.18099548, 0.66813187, 0.61181435],\n",
       "       [0.93333333, 0.19909502, 0.71648352, 0.84388186],\n",
       "       [0.74358974, 0.21900452, 0.76043956, 0.87341772],\n",
       "       [0.85128205, 0.17918552, 0.68791209, 0.74261603],\n",
       "       [0.82051282, 0.18642534, 0.68791209, 1.        ],\n",
       "       [0.83589744, 0.23076923, 0.67032967, 0.70042194],\n",
       "       [0.98461538, 0.20542986, 0.76923077, 0.85232068],\n",
       "       [0.89230769, 0.21809955, 1.        , 0.72995781],\n",
       "       [0.83589744, 0.1520362 , 0.72747253, 0.75527426],\n",
       "       [0.78974359, 0.20633484, 0.9010989 , 0.89873418],\n",
       "       [0.75897436, 0.31855204, 0.82417582, 0.44725738],\n",
       "       [0.89230769, 0.21809955, 0.89450549, 0.70464135],\n",
       "       [0.80512821, 0.12850679, 0.79120879, 0.19409283]])"
      ]
     },
     "execution_count": 26,
     "metadata": {},
     "output_type": "execute_result"
    }
   ],
   "source": [
    "clf.support_vectors_  # support vectors"
   ]
  },
  {
   "cell_type": "code",
   "execution_count": 27,
   "id": "340d139f",
   "metadata": {},
   "outputs": [
    {
     "name": "stdout",
     "output_type": "stream",
     "text": [
      "[[0 1 0 0 0]\n",
      " [0 0 0 0 0]\n",
      " [0 0 1 0 0]\n",
      " [0 1 0 0 0]\n",
      " [0 0 1 0 0]]\n"
     ]
    }
   ],
   "source": [
    "print(confusion_matrix(y_test,y_hat))"
   ]
  },
  {
   "cell_type": "code",
   "execution_count": 28,
   "id": "ac3fa3e5",
   "metadata": {},
   "outputs": [
    {
     "name": "stdout",
     "output_type": "stream",
     "text": [
      "              precision    recall  f1-score   support\n",
      "\n",
      "           1       0.00      0.00      0.00         1\n",
      "           3       0.00      0.00      0.00         0\n",
      "           4       0.50      1.00      0.67         1\n",
      "           5       0.00      0.00      0.00         1\n",
      "           6       0.00      0.00      0.00         1\n",
      "\n",
      "    accuracy                           0.25         4\n",
      "   macro avg       0.10      0.20      0.13         4\n",
      "weighted avg       0.12      0.25      0.17         4\n",
      "\n"
     ]
    },
    {
     "name": "stderr",
     "output_type": "stream",
     "text": [
      "e:\\python projects\\trial peoject\\venv\\lib\\site-packages\\sklearn\\metrics\\_classification.py:1245: UndefinedMetricWarning: Precision and F-score are ill-defined and being set to 0.0 in labels with no predicted samples. Use `zero_division` parameter to control this behavior.\n",
      "  _warn_prf(average, modifier, msg_start, len(result))\n",
      "e:\\python projects\\trial peoject\\venv\\lib\\site-packages\\sklearn\\metrics\\_classification.py:1245: UndefinedMetricWarning: Recall and F-score are ill-defined and being set to 0.0 in labels with no true samples. Use `zero_division` parameter to control this behavior.\n",
      "  _warn_prf(average, modifier, msg_start, len(result))\n",
      "e:\\python projects\\trial peoject\\venv\\lib\\site-packages\\sklearn\\metrics\\_classification.py:1245: UndefinedMetricWarning: Precision and F-score are ill-defined and being set to 0.0 in labels with no predicted samples. Use `zero_division` parameter to control this behavior.\n",
      "  _warn_prf(average, modifier, msg_start, len(result))\n",
      "e:\\python projects\\trial peoject\\venv\\lib\\site-packages\\sklearn\\metrics\\_classification.py:1245: UndefinedMetricWarning: Recall and F-score are ill-defined and being set to 0.0 in labels with no true samples. Use `zero_division` parameter to control this behavior.\n",
      "  _warn_prf(average, modifier, msg_start, len(result))\n",
      "e:\\python projects\\trial peoject\\venv\\lib\\site-packages\\sklearn\\metrics\\_classification.py:1245: UndefinedMetricWarning: Precision and F-score are ill-defined and being set to 0.0 in labels with no predicted samples. Use `zero_division` parameter to control this behavior.\n",
      "  _warn_prf(average, modifier, msg_start, len(result))\n",
      "e:\\python projects\\trial peoject\\venv\\lib\\site-packages\\sklearn\\metrics\\_classification.py:1245: UndefinedMetricWarning: Recall and F-score are ill-defined and being set to 0.0 in labels with no true samples. Use `zero_division` parameter to control this behavior.\n",
      "  _warn_prf(average, modifier, msg_start, len(result))\n"
     ]
    }
   ],
   "source": [
    "print(classification_report(y_test,y_hat))"
   ]
  },
  {
   "cell_type": "markdown",
   "id": "fc2312e4",
   "metadata": {},
   "source": [
    "Linear SVC"
   ]
  },
  {
   "cell_type": "code",
   "execution_count": 29,
   "id": "1a57ec57",
   "metadata": {},
   "outputs": [
    {
     "name": "stderr",
     "output_type": "stream",
     "text": [
      "e:\\python projects\\trial peoject\\venv\\lib\\site-packages\\sklearn\\utils\\validation.py:63: DataConversionWarning: A column-vector y was passed when a 1d array was expected. Please change the shape of y to (n_samples, ), for example using ravel().\n",
      "  return f(*args, **kwargs)\n"
     ]
    },
    {
     "data": {
      "text/plain": [
       "LinearSVC()"
      ]
     },
     "execution_count": 29,
     "metadata": {},
     "output_type": "execute_result"
    }
   ],
   "source": [
    "lin_clf = svm.LinearSVC()\n",
    "lin_clf.fit(x_train, y_train)"
   ]
  },
  {
   "cell_type": "code",
   "execution_count": 30,
   "id": "68a66ec8",
   "metadata": {},
   "outputs": [
    {
     "name": "stdout",
     "output_type": "stream",
     "text": [
      "0.5185185185185185\n"
     ]
    },
    {
     "data": {
      "text/plain": [
       "array([3, 3, 1, 3, 4, 4, 3, 3, 6, 3, 3, 4, 4, 1, 4, 4, 3, 3, 6, 6, 4, 3,\n",
       "       4, 6, 3, 4, 3], dtype=int64)"
      ]
     },
     "execution_count": 30,
     "metadata": {},
     "output_type": "execute_result"
    }
   ],
   "source": [
    "print(lin_clf.score(x_train, y_train))  # Accuracy\n",
    "y_hat = lin_clf.predict(x_train)\n",
    "y_hat"
   ]
  },
  {
   "cell_type": "code",
   "execution_count": 31,
   "id": "d1597d8e",
   "metadata": {},
   "outputs": [
    {
     "name": "stdout",
     "output_type": "stream",
     "text": [
      "0.25\n"
     ]
    },
    {
     "data": {
      "text/plain": [
       "array([4, 3, 4, 4], dtype=int64)"
      ]
     },
     "execution_count": 31,
     "metadata": {},
     "output_type": "execute_result"
    }
   ],
   "source": [
    "print(lin_clf.score(x_test, y_test))\n",
    "y_hat = lin_clf.predict(x_test)\n",
    "y_hat"
   ]
  },
  {
   "cell_type": "code",
   "execution_count": 32,
   "id": "4968a2c4",
   "metadata": {},
   "outputs": [
    {
     "name": "stdout",
     "output_type": "stream",
     "text": [
      "[[0 1 0 0 0]\n",
      " [0 0 0 0 0]\n",
      " [0 0 1 0 0]\n",
      " [0 0 1 0 0]\n",
      " [0 0 1 0 0]]\n"
     ]
    }
   ],
   "source": [
    "print(confusion_matrix(y_test,y_hat))"
   ]
  },
  {
   "cell_type": "code",
   "execution_count": 33,
   "id": "13da089f",
   "metadata": {},
   "outputs": [
    {
     "name": "stdout",
     "output_type": "stream",
     "text": [
      "              precision    recall  f1-score   support\n",
      "\n",
      "           1       0.00      0.00      0.00         1\n",
      "           3       0.00      0.00      0.00         0\n",
      "           4       0.33      1.00      0.50         1\n",
      "           5       0.00      0.00      0.00         1\n",
      "           6       0.00      0.00      0.00         1\n",
      "\n",
      "    accuracy                           0.25         4\n",
      "   macro avg       0.07      0.20      0.10         4\n",
      "weighted avg       0.08      0.25      0.12         4\n",
      "\n"
     ]
    },
    {
     "name": "stderr",
     "output_type": "stream",
     "text": [
      "e:\\python projects\\trial peoject\\venv\\lib\\site-packages\\sklearn\\metrics\\_classification.py:1245: UndefinedMetricWarning: Precision and F-score are ill-defined and being set to 0.0 in labels with no predicted samples. Use `zero_division` parameter to control this behavior.\n",
      "  _warn_prf(average, modifier, msg_start, len(result))\n",
      "e:\\python projects\\trial peoject\\venv\\lib\\site-packages\\sklearn\\metrics\\_classification.py:1245: UndefinedMetricWarning: Recall and F-score are ill-defined and being set to 0.0 in labels with no true samples. Use `zero_division` parameter to control this behavior.\n",
      "  _warn_prf(average, modifier, msg_start, len(result))\n",
      "e:\\python projects\\trial peoject\\venv\\lib\\site-packages\\sklearn\\metrics\\_classification.py:1245: UndefinedMetricWarning: Precision and F-score are ill-defined and being set to 0.0 in labels with no predicted samples. Use `zero_division` parameter to control this behavior.\n",
      "  _warn_prf(average, modifier, msg_start, len(result))\n",
      "e:\\python projects\\trial peoject\\venv\\lib\\site-packages\\sklearn\\metrics\\_classification.py:1245: UndefinedMetricWarning: Recall and F-score are ill-defined and being set to 0.0 in labels with no true samples. Use `zero_division` parameter to control this behavior.\n",
      "  _warn_prf(average, modifier, msg_start, len(result))\n",
      "e:\\python projects\\trial peoject\\venv\\lib\\site-packages\\sklearn\\metrics\\_classification.py:1245: UndefinedMetricWarning: Precision and F-score are ill-defined and being set to 0.0 in labels with no predicted samples. Use `zero_division` parameter to control this behavior.\n",
      "  _warn_prf(average, modifier, msg_start, len(result))\n",
      "e:\\python projects\\trial peoject\\venv\\lib\\site-packages\\sklearn\\metrics\\_classification.py:1245: UndefinedMetricWarning: Recall and F-score are ill-defined and being set to 0.0 in labels with no true samples. Use `zero_division` parameter to control this behavior.\n",
      "  _warn_prf(average, modifier, msg_start, len(result))\n"
     ]
    }
   ],
   "source": [
    "print(classification_report(y_test,y_hat))"
   ]
  },
  {
   "cell_type": "markdown",
   "id": "dd8306bb",
   "metadata": {},
   "source": [
    "Here is comparison of SVM with different kernel function.To check the best one.\n",
    "\n",
    "Since we need to do the visualization, so we need to choose two features, here we use the the two features that contain the least correlations ,which are forestry and farming, from previously analyzed heatmap. \n",
    "\n",
    "And we choose two regions: North region(1) and Southwest Region (5), which are two most distributed groups. "
   ]
  },
  {
   "cell_type": "code",
   "execution_count": 34,
   "id": "557a3efd",
   "metadata": {},
   "outputs": [
    {
     "data": {
      "text/html": [
       "<div>\n",
       "<style scoped>\n",
       "    .dataframe tbody tr th:only-of-type {\n",
       "        vertical-align: middle;\n",
       "    }\n",
       "\n",
       "    .dataframe tbody tr th {\n",
       "        vertical-align: top;\n",
       "    }\n",
       "\n",
       "    .dataframe thead th {\n",
       "        text-align: right;\n",
       "    }\n",
       "</style>\n",
       "<table border=\"1\" class=\"dataframe\">\n",
       "  <thead>\n",
       "    <tr style=\"text-align: right;\">\n",
       "      <th></th>\n",
       "      <th>Region</th>\n",
       "      <th>Forestry.1</th>\n",
       "      <th>Farming.1</th>\n",
       "    </tr>\n",
       "  </thead>\n",
       "  <tbody>\n",
       "    <tr>\n",
       "      <th>0</th>\n",
       "      <td>1</td>\n",
       "      <td>0.328507</td>\n",
       "      <td>0.000000</td>\n",
       "    </tr>\n",
       "    <tr>\n",
       "      <th>1</th>\n",
       "      <td>1</td>\n",
       "      <td>1.000000</td>\n",
       "      <td>0.717949</td>\n",
       "    </tr>\n",
       "    <tr>\n",
       "      <th>2</th>\n",
       "      <td>1</td>\n",
       "      <td>0.176471</td>\n",
       "      <td>0.641026</td>\n",
       "    </tr>\n",
       "    <tr>\n",
       "      <th>3</th>\n",
       "      <td>1</td>\n",
       "      <td>0.152941</td>\n",
       "      <td>0.682051</td>\n",
       "    </tr>\n",
       "    <tr>\n",
       "      <th>4</th>\n",
       "      <td>1</td>\n",
       "      <td>0.142081</td>\n",
       "      <td>0.728205</td>\n",
       "    </tr>\n",
       "    <tr>\n",
       "      <th>21</th>\n",
       "      <td>5</td>\n",
       "      <td>0.230769</td>\n",
       "      <td>0.835897</td>\n",
       "    </tr>\n",
       "    <tr>\n",
       "      <th>22</th>\n",
       "      <td>5</td>\n",
       "      <td>0.152036</td>\n",
       "      <td>0.835897</td>\n",
       "    </tr>\n",
       "    <tr>\n",
       "      <th>23</th>\n",
       "      <td>5</td>\n",
       "      <td>0.205430</td>\n",
       "      <td>0.984615</td>\n",
       "    </tr>\n",
       "    <tr>\n",
       "      <th>24</th>\n",
       "      <td>5</td>\n",
       "      <td>0.147511</td>\n",
       "      <td>1.000000</td>\n",
       "    </tr>\n",
       "    <tr>\n",
       "      <th>25</th>\n",
       "      <td>5</td>\n",
       "      <td>0.218100</td>\n",
       "      <td>0.892308</td>\n",
       "    </tr>\n",
       "  </tbody>\n",
       "</table>\n",
       "</div>"
      ],
      "text/plain": [
       "    Region  Forestry.1  Farming.1\n",
       "0        1    0.328507   0.000000\n",
       "1        1    1.000000   0.717949\n",
       "2        1    0.176471   0.641026\n",
       "3        1    0.152941   0.682051\n",
       "4        1    0.142081   0.728205\n",
       "21       5    0.230769   0.835897\n",
       "22       5    0.152036   0.835897\n",
       "23       5    0.205430   0.984615\n",
       "24       5    0.147511   1.000000\n",
       "25       5    0.218100   0.892308"
      ]
     },
     "execution_count": 34,
     "metadata": {},
     "output_type": "execute_result"
    }
   ],
   "source": [
    "df_original_c4 = df_original_c3[['Region', 'Forestry.1','Farming.1']]\n",
    "df_original_c4 = df_original_c4.drop([5,6,7,8,9,10,11,12,13,14,15, 16, 17, 18, 19, 20, 26,27,28,29,30]) # choose two regions\n",
    "df_original_c4"
   ]
  },
  {
   "cell_type": "code",
   "execution_count": 35,
   "id": "68bf4220",
   "metadata": {},
   "outputs": [
    {
     "data": {
      "text/plain": [
       "array([[0.        , 0.32850679],\n",
       "       [0.71794872, 1.        ],\n",
       "       [0.64102564, 0.17647059],\n",
       "       [0.68205128, 0.15294118],\n",
       "       [0.72820513, 0.14208145],\n",
       "       [0.83589744, 0.23076923],\n",
       "       [0.83589744, 0.1520362 ],\n",
       "       [0.98461538, 0.20542986],\n",
       "       [1.        , 0.14751131],\n",
       "       [0.89230769, 0.21809955]])"
      ]
     },
     "execution_count": 35,
     "metadata": {},
     "output_type": "execute_result"
    }
   ],
   "source": [
    "X_SVM = df_original_c4[['Farming.1','Forestry.1']].values\n",
    "X_SVM"
   ]
  },
  {
   "cell_type": "code",
   "execution_count": 36,
   "id": "8e7a7826",
   "metadata": {},
   "outputs": [
    {
     "data": {
      "text/plain": [
       "array([[1],\n",
       "       [1],\n",
       "       [1],\n",
       "       [1],\n",
       "       [1],\n",
       "       [5],\n",
       "       [5],\n",
       "       [5],\n",
       "       [5],\n",
       "       [5]], dtype=int64)"
      ]
     },
     "execution_count": 36,
     "metadata": {},
     "output_type": "execute_result"
    }
   ],
   "source": [
    "y_SVM = df_original_c4[['Region']].values\n",
    "y_SVM"
   ]
  },
  {
   "cell_type": "code",
   "execution_count": 37,
   "id": "7e27595c",
   "metadata": {},
   "outputs": [],
   "source": [
    "def make_meshgrid(x, y, h=.02):\n",
    "    \"\"\"Create a mesh of points to plot in\n",
    "    Parameters\n",
    "    ----------\n",
    "    x: data to base x-axis meshgrid on\n",
    "    y: data to base y-axis meshgrid on\n",
    "    h: stepsize for meshgrid, optional\n",
    "    Returns\n",
    "    -------\n",
    "    xx, yy : ndarray\n",
    "    \"\"\"\n",
    "    x_min, x_max = x.min() - 1, x.max() + 1\n",
    "    y_min, y_max = y.min() - 1, y.max() + 1\n",
    "    xx, yy = np.meshgrid(np.arange(x_min, x_max, h),\n",
    "                         np.arange(y_min, y_max, h))\n",
    "    return xx, yy\n",
    " \n",
    "\n",
    "def plot_contours(ax, clf, xx, yy, **params):\n",
    "    \"\"\"Plot the decision boundaries for a classifier.\n",
    "    Parameters\n",
    "    ----------\n",
    "    ax: matplotlib axes object\n",
    "    clf: a classifier\n",
    "    xx: meshgrid ndarray\n",
    "    yy: meshgrid ndarray\n",
    "    params: dictionary of params to pass to contourf, optional\n",
    "    \"\"\"\n",
    "    Z = clf.predict(np.c_[xx.ravel(), yy.ravel()])\n",
    "    Z = Z.reshape(xx.shape)\n",
    "    out = ax.contourf(xx, yy, Z, **params)\n",
    "    return out"
   ]
  },
  {
   "cell_type": "code",
   "execution_count": 38,
   "id": "8c651b31",
   "metadata": {},
   "outputs": [
    {
     "name": "stderr",
     "output_type": "stream",
     "text": [
      "e:\\python projects\\trial peoject\\venv\\lib\\site-packages\\sklearn\\utils\\validation.py:63: DataConversionWarning: A column-vector y was passed when a 1d array was expected. Please change the shape of y to (n_samples, ), for example using ravel().\n",
      "  return f(*args, **kwargs)\n",
      "e:\\python projects\\trial peoject\\venv\\lib\\site-packages\\sklearn\\utils\\validation.py:63: DataConversionWarning: A column-vector y was passed when a 1d array was expected. Please change the shape of y to (n_samples, ), for example using ravel().\n",
      "  return f(*args, **kwargs)\n",
      "e:\\python projects\\trial peoject\\venv\\lib\\site-packages\\sklearn\\utils\\validation.py:63: DataConversionWarning: A column-vector y was passed when a 1d array was expected. Please change the shape of y to (n_samples, ), for example using ravel().\n",
      "  return f(*args, **kwargs)\n",
      "e:\\python projects\\trial peoject\\venv\\lib\\site-packages\\sklearn\\utils\\validation.py:63: DataConversionWarning: A column-vector y was passed when a 1d array was expected. Please change the shape of y to (n_samples, ), for example using ravel().\n",
      "  return f(*args, **kwargs)\n"
     ]
    },
    {
     "data": {
      "text/plain": [
       "<Figure size 1080x504 with 0 Axes>"
      ]
     },
     "metadata": {},
     "output_type": "display_data"
    },
    {
     "data": {
      "image/png": "[encoded data removed]",
      "text/plain": [
       "<Figure size 1080x504 with 4 Axes>"
      ]
     },
     "metadata": {},
     "output_type": "display_data"
    }
   ],
   "source": [
    "# we create an instance of SVM and fit out data. We do not scale our\n",
    "# data since we want to plot the support vectors\n",
    "C = 5.0  # SVM regularization parameter\n",
    "# 惩罚函数，默认值为1，表示对错误分类的惩罚程度，就是不允许分类出错的程度\n",
    "# C越大，表明越不允许分类出错，但是C越大越可能过拟合，C太小的话趋于0的话，分类将不会关注分类是否正确的问题\n",
    "models = (svm.SVC(kernel='linear', C=5),\n",
    "          svm.LinearSVC(C=5),\n",
    "          svm.SVC(kernel='rbf', gamma=7, C=5),\n",
    "          svm.SVC(kernel='poly', degree=3, C=5))\n",
    "# Kernel核函数，引入为了解决线性不可分的问题\n",
    "# kernel = 'linear', 为线性核，C越大分类效果越好，但可能会过拟合；\n",
    "# kernel='rbf'时，为高斯核，gamma值越小，分类界面越连续；gamma值越大，分类界面越“散”，分类效果越好，但可能会过拟合；\n",
    "# kernel='poly'：多项式核；\n",
    "# kernel=sigmoid’：Sigmoid核函数；kernel=‘precomputed’：核矩阵\n",
    "models = (clf.fit(X_SVM, y_SVM) for clf in models)\n",
    " \n",
    "# title for the plots\n",
    "titles = ('SVC with linear kernel',\n",
    "          'LinearSVC (linear kernel)',\n",
    "          'SVC with RBF kernel',\n",
    "          'SVC with polynomial (degree 3) kernel')\n",
    "# Degree：多项式poly函数的维度，默认是3，选择其他核函数时会被忽略\n",
    " \n",
    "# Set-up 2x2 grid for plotting.\n",
    "plt.figure(1)\n",
    "fig, sub = plt.subplots(2, 2)\n",
    "plt.subplots_adjust(wspace=0.4, hspace=0.4)\n",
    " \n",
    "X0, X1 = X_SVM[:, 0], X_SVM[:, 1]\n",
    "xx, yy = make_meshgrid(X0, X1)\n",
    " \n",
    "for clf, title, ax in zip(models, titles, sub.flatten()):\n",
    "    plot_contours(ax, clf, xx, yy,\n",
    "                  cmap=plt.cm.coolwarm, alpha=0.8)\n",
    "    ax.scatter(X0, X1, c=y_SVM, cmap=plt.cm.coolwarm, s=20, edgecolors='k')\n",
    "    ax.set_xlim(xx.min(), xx.max())\n",
    "    ax.set_ylim(yy.min(), yy.max())\n",
    "    ax.set_xlabel('Sepal length')\n",
    "    ax.set_ylabel('Sepal width')\n",
    "    ax.set_xticks(())\n",
    "    ax.set_yticks(())\n",
    "    ax.set_title(title)\n",
    "\n",
    "plt.show()"
   ]
  },
  {
   "cell_type": "markdown",
   "id": "6f4805d9",
   "metadata": {},
   "source": [
    "C is the penalty function, the default value is 1, which indicates the degree of punishment for error classification, that is, the degree of disallowing error classification.The larger the C is, the less error is allowed. However, the larger the C is, the more over fitting is possible. If the C is too small and tends to zero, the classification will not pay attention to whether the classification is correct.\n",
    "\n",
    "Kernel ='linear ', which is a linear kernel. The larger the C is, the better the classification effect is, but it may be over fitted;\n",
    "\n",
    "Kernel = 'rbf', the smaller the gamma value is, the more continuous the classification interface is; The larger the gamma value is, the more \"scattered\" the classification interface is and the better the classification effect is, but it may be over fitted;\n",
    "\n",
    "Kernel ='poly ': polynomial kernel;\n",
    "\n",
    "The kernel 'rbf' perform well in this datasets, but it is a little bit over-fitting, polynomial kernel also does a good job. But we can see that this dataset may not be very good to be linearly divided."
   ]
  },
  {
   "cell_type": "markdown",
   "id": "3501c564",
   "metadata": {},
   "source": [
    "##### 2. The second model is decision tree"
   ]
  },
  {
   "cell_type": "code",
   "execution_count": 39,
   "id": "3fce8bdf",
   "metadata": {},
   "outputs": [],
   "source": [
    "clf_Tree = tree.DecisionTreeClassifier()\n",
    "clf_Tree = clf_Tree.fit(X,y) # Fit the model with data"
   ]
  },
  {
   "cell_type": "code",
   "execution_count": 40,
   "id": "22be6e7b",
   "metadata": {},
   "outputs": [
    {
     "data": {
      "text/plain": [
       "[Text(345.2625, 353.34, 'X[0] <= 0.736\\ngini = 0.824\\nsamples = 31\\nvalue = [5, 3, 7, 6, 5, 5]'),\n",
       " Text(167.4, 298.98, 'X[2] <= 0.787\\ngini = 0.579\\nsamples = 11\\nvalue = [5, 1, 5, 0, 0, 0]'),\n",
       " Text(83.7, 244.61999999999998, 'X[1] <= 0.282\\ngini = 0.408\\nsamples = 7\\nvalue = [2, 0, 5, 0, 0, 0]'),\n",
       " Text(41.85, 190.26, 'gini = 0.0\\nsamples = 5\\nvalue = [0, 0, 5, 0, 0, 0]'),\n",
       " Text(125.55000000000001, 190.26, 'gini = 0.0\\nsamples = 2\\nvalue = [2, 0, 0, 0, 0, 0]'),\n",
       " Text(251.10000000000002, 244.61999999999998, 'X[3] <= 0.677\\ngini = 0.375\\nsamples = 4\\nvalue = [3, 1, 0, 0, 0, 0]'),\n",
       " Text(209.25, 190.26, 'gini = 0.0\\nsamples = 3\\nvalue = [3, 0, 0, 0, 0, 0]'),\n",
       " Text(292.95, 190.26, 'gini = 0.0\\nsamples = 1\\nvalue = [0, 1, 0, 0, 0, 0]'),\n",
       " Text(523.125, 298.98, 'X[2] <= 0.765\\ngini = 0.765\\nsamples = 20\\nvalue = [0, 2, 2, 6, 5, 5]'),\n",
       " Text(418.5, 244.61999999999998, 'X[3] <= 0.812\\ngini = 0.494\\nsamples = 9\\nvalue = [0, 0, 0, 6, 2, 1]'),\n",
       " Text(376.65000000000003, 190.26, 'X[2] <= 0.732\\ngini = 0.64\\nsamples = 5\\nvalue = [0, 0, 0, 2, 2, 1]'),\n",
       " Text(334.8, 135.89999999999998, 'X[3] <= 0.656\\ngini = 0.5\\nsamples = 4\\nvalue = [0, 0, 0, 2, 2, 0]'),\n",
       " Text(292.95, 81.53999999999996, 'gini = 0.0\\nsamples = 1\\nvalue = [0, 0, 0, 1, 0, 0]'),\n",
       " Text(376.65000000000003, 81.53999999999996, 'X[0] <= 0.844\\ngini = 0.444\\nsamples = 3\\nvalue = [0, 0, 0, 1, 2, 0]'),\n",
       " Text(334.8, 27.180000000000007, 'gini = 0.0\\nsamples = 2\\nvalue = [0, 0, 0, 0, 2, 0]'),\n",
       " Text(418.5, 27.180000000000007, 'gini = 0.0\\nsamples = 1\\nvalue = [0, 0, 0, 1, 0, 0]'),\n",
       " Text(418.5, 135.89999999999998, 'gini = 0.0\\nsamples = 1\\nvalue = [0, 0, 0, 0, 0, 1]'),\n",
       " Text(460.35, 190.26, 'gini = 0.0\\nsamples = 4\\nvalue = [0, 0, 0, 4, 0, 0]'),\n",
       " Text(627.75, 244.61999999999998, 'X[1] <= 0.106\\ngini = 0.727\\nsamples = 11\\nvalue = [0, 2, 2, 0, 3, 4]'),\n",
       " Text(585.9, 190.26, 'gini = 0.0\\nsamples = 2\\nvalue = [0, 2, 0, 0, 0, 0]'),\n",
       " Text(669.6, 190.26, 'X[0] <= 0.849\\ngini = 0.642\\nsamples = 9\\nvalue = [0, 0, 2, 0, 3, 4]'),\n",
       " Text(585.9, 135.89999999999998, 'X[0] <= 0.774\\ngini = 0.48\\nsamples = 5\\nvalue = [0, 0, 2, 0, 0, 3]'),\n",
       " Text(544.0500000000001, 81.53999999999996, 'X[3] <= 0.538\\ngini = 0.444\\nsamples = 3\\nvalue = [0, 0, 2, 0, 0, 1]'),\n",
       " Text(502.20000000000005, 27.180000000000007, 'gini = 0.0\\nsamples = 1\\nvalue = [0, 0, 0, 0, 0, 1]'),\n",
       " Text(585.9, 27.180000000000007, 'gini = 0.0\\nsamples = 2\\nvalue = [0, 0, 2, 0, 0, 0]'),\n",
       " Text(627.75, 81.53999999999996, 'gini = 0.0\\nsamples = 2\\nvalue = [0, 0, 0, 0, 0, 2]'),\n",
       " Text(753.3000000000001, 135.89999999999998, 'X[3] <= 0.717\\ngini = 0.375\\nsamples = 4\\nvalue = [0, 0, 0, 0, 3, 1]'),\n",
       " Text(711.45, 81.53999999999996, 'gini = 0.0\\nsamples = 1\\nvalue = [0, 0, 0, 0, 0, 1]'),\n",
       " Text(795.15, 81.53999999999996, 'gini = 0.0\\nsamples = 3\\nvalue = [0, 0, 0, 0, 3, 0]')]"
      ]
     },
     "execution_count": 40,
     "metadata": {},
     "output_type": "execute_result"
    },
    {
     "data": {
      "image/png": "[encoded data removed]",
      "text/plain": [
       "<Figure size 1080x504 with 1 Axes>"
      ]
     },
     "metadata": {
      "needs_background": "light"
     },
     "output_type": "display_data"
    }
   ],
   "source": [
    "tree.plot_tree(clf_Tree)"
   ]
  },
  {
   "cell_type": "markdown",
   "id": "0964cfbf",
   "metadata": {},
   "source": [
    "The tree above is probably over fitting, we might need to find a proper tree depth.\n",
    "\n",
    "Here is curve to find the best depth"
   ]
  },
  {
   "cell_type": "code",
   "execution_count": 41,
   "id": "2f8fb5d8",
   "metadata": {},
   "outputs": [
    {
     "name": "stdout",
     "output_type": "stream",
     "text": [
      "Max depth 1 Accuracy 0.0\n",
      "Max depth 2 Accuracy 0.25\n",
      "Max depth 3 Accuracy 0.5\n",
      "Max depth 4 Accuracy 0.5\n",
      "Max depth 5 Accuracy 0.75\n",
      "Max depth 6 Accuracy 0.5\n",
      "Max depth 7 Accuracy 0.5\n"
     ]
    },
    {
     "data": {
      "image/png": "[encoded data removed]",
      "text/plain": [
       "<Figure size 1080x504 with 1 Axes>"
      ]
     },
     "metadata": {
      "needs_background": "light"
     },
     "output_type": "display_data"
    }
   ],
   "source": [
    "accu = []\n",
    "for i in range(1,8):\n",
    "    tree = DecisionTreeClassifier(max_depth = i, random_state=0)\n",
    "    tree.fit(x_train, y_train)\n",
    "    accu.append(tree.score(x_test, y_test))\n",
    "    print(\"Max depth\",i,\"Accuracy\",tree.score(x_test, y_test))\n",
    "plt.plot(range(1,8),accu)\n",
    "plt.title(\"The Curve to Find out Best Depth\")\n",
    "plt.xlabel(\"Max Depth\")\n",
    "plt.ylabel(\"Accuracy\")\n",
    "plt.show()"
   ]
  },
  {
   "cell_type": "markdown",
   "id": "ecd722d0",
   "metadata": {},
   "source": [
    "So we have the depth which is 5."
   ]
  },
  {
   "cell_type": "code",
   "execution_count": 42,
   "id": "31da5822",
   "metadata": {},
   "outputs": [
    {
     "name": "stdout",
     "output_type": "stream",
     "text": [
      "Accuracy on testing set: 0.750\n"
     ]
    }
   ],
   "source": [
    "tree = DecisionTreeClassifier(max_depth = 5, random_state=2)\n",
    "tree.fit(x_train, y_train)\n",
    "print(\"Accuracy on testing set: {:.3f}\".format(tree.score(x_test, y_test)))"
   ]
  },
  {
   "cell_type": "markdown",
   "id": "4b59b5d0",
   "metadata": {},
   "source": [
    "graphviz for two models above"
   ]
  },
  {
   "cell_type": "code",
   "execution_count": 43,
   "id": "a9e36b8b",
   "metadata": {},
   "outputs": [],
   "source": [
    "export_graphviz(clf_Tree, \n",
    "               out_file=\"Tree_depthUnlimited.dot\",\n",
    "               class_names=['North','Northeast','East','Central South','Southwest','Northwest'],\n",
    "               feature_names=['Farming.1','Forestry.1','Animal Husbandry.1','Fishery.1'],\n",
    "               impurity=False,\n",
    "               filled=True)\n",
    "# C:\\Users\\dcdn\\PycharmProjects\\Business Analytics Project\\Math3970 Applied Machine Learning\\Tree_depthUnlimited.dot\n",
    "# dot -Tpng Tree_depthUnlimited.dot -o Tree_depthUnlimited.png"
   ]
  },
  {
   "cell_type": "code",
   "execution_count": 44,
   "id": "81389d68",
   "metadata": {},
   "outputs": [],
   "source": [
    "export_graphviz(tree, \n",
    "               out_file=\"Tree_depth5.dot\",\n",
    "               class_names=['North','Northeast','East','Central South','Southwest','Northwest'],\n",
    "               feature_names=['Farming.1','Forestry.1','Animal Husbandry.1','Fishery.1'],\n",
    "               impurity=False,\n",
    "               filled=True)"
   ]
  },
  {
   "cell_type": "markdown",
   "id": "081791ab",
   "metadata": {},
   "source": [
    "##### The third model is KMeans Clustering"
   ]
  },
  {
   "cell_type": "code",
   "execution_count": 45,
   "id": "0bd227ac",
   "metadata": {},
   "outputs": [
    {
     "data": {
      "image/png": "[encoded data removed]",
      "text/plain": [
       "<Figure size 1080x504 with 1 Axes>"
      ]
     },
     "metadata": {
      "needs_background": "light"
     },
     "output_type": "display_data"
    }
   ],
   "source": [
    "wcss=[]\n",
    "#we always assume the max number of cluster would be 10\n",
    "#you can judge the number of clusters by doing averaging\n",
    "#Static code to get max no of clusters\n",
    "for i in range(1,11):\n",
    "    kmeans = KMeans(n_clusters= i, init='k-means++', random_state=0)\n",
    "    kmeans.fit(X)\n",
    "    wcss.append(kmeans.inertia_)\n",
    "    #inertia_ is the formula used to segregate the data points into clusters\n",
    "    \n",
    "#Visualizing the ELBOW method to get the optimal value of K \n",
    "plt.plot(range(1,11), wcss)\n",
    "plt.title('The Elbow Method')\n",
    "plt.xlabel('clusters')\n",
    "plt.ylabel('Inertia')\n",
    "plt.show()"
   ]
  },
  {
   "cell_type": "markdown",
   "id": "8da9bffb",
   "metadata": {},
   "source": [
    "We find the best clusters using the elbow method according to the value of inertia.\n",
    "\n",
    "inertia: evaluation of the model effect index, the sum of the nearest cluster centers of the sample."
   ]
  },
  {
   "cell_type": "code",
   "execution_count": 46,
   "id": "d7a0962f",
   "metadata": {},
   "outputs": [],
   "source": [
    "#If you zoom out this curve then you will see that last elbow comes at k=5\n",
    "#no matter what range we select ex- (1,21) also i will see the same behaviour but if we chose higher range it is little difficult to visualize the ELBOW\n",
    "#that is why we usually prefer range (1,11)\n",
    "##Finally we got that k=5\n",
    "\n",
    "#Model Build\n",
    "#For unsupervised learning we use \"fit_predict()\" wherein for supervised learning we use \"fit_tranform()\"\n",
    "#y_kmeans is the final model . Now how and where we will deploy this model in production is depends on what tool we are using.\n",
    "#This use case is very common and it is used in BFS industry(credit card) and retail for customer segmenattion."
   ]
  },
  {
   "cell_type": "markdown",
   "id": "382094f9",
   "metadata": {},
   "source": [
    "Fit model with n_clusters = 6"
   ]
  },
  {
   "cell_type": "code",
   "execution_count": 47,
   "id": "acccaeae",
   "metadata": {},
   "outputs": [
    {
     "data": {
      "text/plain": [
       "array([2, 4, 1, 1, 5, 0, 0, 1, 3, 1, 1, 1, 0, 1, 1, 0, 0, 0, 0, 0, 1, 0,\n",
       "       0, 0, 0, 0, 0, 0, 0, 5, 5])"
      ]
     },
     "execution_count": 47,
     "metadata": {},
     "output_type": "execute_result"
    }
   ],
   "source": [
    "kmeansmodel = KMeans(n_clusters=6, init='k-means++', random_state=0)\n",
    "y_kmeans= kmeansmodel.fit_predict(X)\n",
    "y_pred = kmeansmodel.labels_  # y_pred = kmean.predict(X)\n",
    "y_pred"
   ]
  },
  {
   "cell_type": "code",
   "execution_count": 48,
   "id": "7f63ab77",
   "metadata": {},
   "outputs": [
    {
     "data": {
      "text/plain": [
       "array([[0.85288462, 0.17720588, 0.78557692, 0.79562236],\n",
       "       [0.71282051, 0.17677225, 0.74725275, 0.6230661 ],\n",
       "       [0.        , 0.32850679, 0.        , 0.        ],\n",
       "       [0.15384615, 0.2361991 , 0.38241758, 0.58649789],\n",
       "       [0.71794872, 1.        , 0.43956044, 0.49367089],\n",
       "       [0.76410256, 0.19638009, 0.81245421, 0.31364276]])"
      ]
     },
     "execution_count": 48,
     "metadata": {},
     "output_type": "execute_result"
    }
   ],
   "source": [
    "centroid = kmeansmodel.cluster_centers_\n",
    "centroid"
   ]
  },
  {
   "cell_type": "code",
   "execution_count": 49,
   "id": "9f400883",
   "metadata": {},
   "outputs": [
    {
     "data": {
      "text/plain": [
       "0.5630147833376686"
      ]
     },
     "execution_count": 49,
     "metadata": {},
     "output_type": "execute_result"
    }
   ],
   "source": [
    "# Evaluation of the model effect index, the sum of the nearest cluster centers of the sample\n",
    "inertia = kmeansmodel.inertia_\n",
    "inertia"
   ]
  },
  {
   "cell_type": "code",
   "execution_count": 50,
   "id": "f6411630",
   "metadata": {},
   "outputs": [
    {
     "name": "stderr",
     "output_type": "stream",
     "text": [
      "e:\\python projects\\trial peoject\\venv\\lib\\site-packages\\sklearn\\metrics\\cluster\\_supervised.py:58: UserWarning: Clustering metrics expects discrete values but received continuous values for label, and multiclass values for target\n",
      "  warnings.warn(msg, UserWarning)\n",
      "e:\\python projects\\trial peoject\\venv\\lib\\site-packages\\sklearn\\metrics\\cluster\\_supervised.py:58: UserWarning: Clustering metrics expects discrete values but received continuous values for label, and multiclass values for target\n",
      "  warnings.warn(msg, UserWarning)\n",
      "e:\\python projects\\trial peoject\\venv\\lib\\site-packages\\sklearn\\metrics\\cluster\\_supervised.py:58: UserWarning: Clustering metrics expects discrete values but received continuous values for label, and multiclass values for target\n",
      "  warnings.warn(msg, UserWarning)\n"
     ]
    },
    {
     "data": {
      "text/html": [
       "<div>\n",
       "<style scoped>\n",
       "    .dataframe tbody tr th:only-of-type {\n",
       "        vertical-align: middle;\n",
       "    }\n",
       "\n",
       "    .dataframe tbody tr th {\n",
       "        vertical-align: top;\n",
       "    }\n",
       "\n",
       "    .dataframe thead th {\n",
       "        text-align: right;\n",
       "    }\n",
       "</style>\n",
       "<table border=\"1\" class=\"dataframe\">\n",
       "  <thead>\n",
       "    <tr style=\"text-align: right;\">\n",
       "      <th></th>\n",
       "      <th>Inertias</th>\n",
       "      <th>Adjusted Rand Index</th>\n",
       "      <th>Homogeneity</th>\n",
       "      <th>Completeness</th>\n",
       "    </tr>\n",
       "  </thead>\n",
       "  <tbody>\n",
       "    <tr>\n",
       "      <th>0</th>\n",
       "      <td>0.563015</td>\n",
       "      <td>0.016071</td>\n",
       "      <td>0.369694</td>\n",
       "      <td>0.951064</td>\n",
       "    </tr>\n",
       "  </tbody>\n",
       "</table>\n",
       "</div>"
      ],
      "text/plain": [
       "   Inertias  Adjusted Rand Index  Homogeneity  Completeness\n",
       "0  0.563015             0.016071     0.369694      0.951064"
      ]
     },
     "execution_count": 50,
     "metadata": {},
     "output_type": "execute_result"
    }
   ],
   "source": [
    "# Evaluation of other indicators\n",
    "y = X[:,1]\n",
    "\n",
    "# The adjusted Rand index gets a value close to 0 independent of sample size and category through the adjustment of Rand index, \n",
    "# and its value range is [- 1,1],\n",
    "# Negative number means that the result is not good. The closer to 1, the better it is, \n",
    "# which means that the clustering result is more consistent with the real situation.\n",
    "adjusted_rand_s = metrics.adjusted_rand_score(y, y_pred)\n",
    "\n",
    "# If all clusters only contain data points belonging to members of a single cluster, the clustering results will meet the homogeneity.\n",
    "# The larger the value range [0,1] means that the clustering results are more consistent with the real situation\n",
    "homogeneity_s = metrics.homogeneity_score(y, y_pred)\n",
    "\n",
    "# If all the data points as members of a given class are elements of the same cluster, \n",
    "# the clustering results meet the integrity.\n",
    "# Its value range is [0,1]. The larger the value is, the more consistent the clustering result is with the real situation.\n",
    "completeness_s = metrics.completeness_score(y, y_pred)\n",
    "\n",
    "df_metrics = pd.DataFrame([[inertia, adjusted_rand_s, homogeneity_s,completeness_s]],\n",
    "                         columns=['Inertias','Adjusted Rand Index','Homogeneity','Completeness'])\n",
    "\n",
    "df_metrics"
   ]
  },
  {
   "cell_type": "markdown",
   "id": "61e82e58",
   "metadata": {},
   "source": [
    "##### The forth model is K-nearest Neighbour"
   ]
  },
  {
   "cell_type": "markdown",
   "id": "75f6f976",
   "metadata": {},
   "source": [
    "Here we will use standardScalar to tranform to a standardized data"
   ]
  },
  {
   "cell_type": "code",
   "execution_count": 51,
   "id": "01726722",
   "metadata": {},
   "outputs": [
    {
     "data": {
      "text/html": [
       "<div>\n",
       "<style scoped>\n",
       "    .dataframe tbody tr th:only-of-type {\n",
       "        vertical-align: middle;\n",
       "    }\n",
       "\n",
       "    .dataframe tbody tr th {\n",
       "        vertical-align: top;\n",
       "    }\n",
       "\n",
       "    .dataframe thead th {\n",
       "        text-align: right;\n",
       "    }\n",
       "</style>\n",
       "<table border=\"1\" class=\"dataframe\">\n",
       "  <thead>\n",
       "    <tr style=\"text-align: right;\">\n",
       "      <th></th>\n",
       "      <th>Region</th>\n",
       "      <th>Indices of Gross Output (preceding year=100)</th>\n",
       "      <th>Farming.1</th>\n",
       "      <th>Forestry.1</th>\n",
       "      <th>Animal Husbandry.1</th>\n",
       "      <th>Fishery.1</th>\n",
       "    </tr>\n",
       "  </thead>\n",
       "  <tbody>\n",
       "    <tr>\n",
       "      <th>0</th>\n",
       "      <td>1</td>\n",
       "      <td>93.7</td>\n",
       "      <td>89.2</td>\n",
       "      <td>121.6</td>\n",
       "      <td>63.5</td>\n",
       "      <td>86.2</td>\n",
       "    </tr>\n",
       "    <tr>\n",
       "      <th>1</th>\n",
       "      <td>1</td>\n",
       "      <td>100.6</td>\n",
       "      <td>103.2</td>\n",
       "      <td>195.8</td>\n",
       "      <td>83.5</td>\n",
       "      <td>97.9</td>\n",
       "    </tr>\n",
       "    <tr>\n",
       "      <th>2</th>\n",
       "      <td>1</td>\n",
       "      <td>101.9</td>\n",
       "      <td>101.7</td>\n",
       "      <td>104.8</td>\n",
       "      <td>100.4</td>\n",
       "      <td>100.6</td>\n",
       "    </tr>\n",
       "    <tr>\n",
       "      <th>3</th>\n",
       "      <td>1</td>\n",
       "      <td>102.0</td>\n",
       "      <td>102.5</td>\n",
       "      <td>102.2</td>\n",
       "      <td>100.7</td>\n",
       "      <td>100.2</td>\n",
       "    </tr>\n",
       "    <tr>\n",
       "      <th>4</th>\n",
       "      <td>1</td>\n",
       "      <td>102.1</td>\n",
       "      <td>103.4</td>\n",
       "      <td>101.0</td>\n",
       "      <td>100.9</td>\n",
       "      <td>93.3</td>\n",
       "    </tr>\n",
       "  </tbody>\n",
       "</table>\n",
       "</div>"
      ],
      "text/plain": [
       "   Region  Indices of Gross Output (preceding year=100)  Farming.1  \\\n",
       "0       1                                          93.7       89.2   \n",
       "1       1                                         100.6      103.2   \n",
       "2       1                                         101.9      101.7   \n",
       "3       1                                         102.0      102.5   \n",
       "4       1                                         102.1      103.4   \n",
       "\n",
       "   Forestry.1  Animal Husbandry.1  Fishery.1  \n",
       "0       121.6                63.5       86.2  \n",
       "1       195.8                83.5       97.9  \n",
       "2       104.8               100.4      100.6  \n",
       "3       102.2               100.7      100.2  \n",
       "4       101.0               100.9       93.3  "
      ]
     },
     "execution_count": 51,
     "metadata": {},
     "output_type": "execute_result"
    }
   ],
   "source": [
    "# Original Dataset\n",
    "df_original_c6 = df_original_c5.copy(deep=True)\n",
    "df_original_c5.head()"
   ]
  },
  {
   "cell_type": "code",
   "execution_count": 52,
   "id": "c82d431f",
   "metadata": {},
   "outputs": [
    {
     "name": "stdout",
     "output_type": "stream",
     "text": [
      "\u001b[1mX variable: \n",
      "\u001b[0m [[ 89.2 121.6  63.5  86.2]\n",
      " [103.2 195.8  83.5  97.9]\n",
      " [101.7 104.8 100.4 100.6]\n",
      " [102.5 102.2 100.7 100.2]\n",
      " [103.4 101.  100.9  93.3]]\n",
      "\u001b[1my variable: \n",
      "\u001b[0m [1 1 1 1 1]\n"
     ]
    }
   ],
   "source": [
    "# Get features and classes\n",
    "X_var = df_original_c5[['Farming.1','Forestry.1','Animal Husbandry.1','Fishery.1']].values\n",
    "y_var = df_original_c5['Region'].values\n",
    "\n",
    "print(cl('X variable: \\n', attrs=['bold']), X_var[:5])\n",
    "print(cl('y variable: \\n', attrs=['bold']), y_var[:5])"
   ]
  },
  {
   "cell_type": "code",
   "execution_count": 53,
   "id": "a874b261",
   "metadata": {},
   "outputs": [
    {
     "name": "stdout",
     "output_type": "stream",
     "text": [
      "\u001b[1m[[-3.78505648  0.7493968  -4.08587426 -3.16767485]\n",
      " [-0.15795444  5.0782831  -1.61730864 -0.78650248]\n",
      " [-0.54657252 -0.2307284   0.46862931 -0.23700116]\n",
      " [-0.33930955 -0.38241444  0.5056578  -0.31840877]\n",
      " [-0.1061387  -0.45242338  0.53034345 -1.72268991]]\u001b[0m\n"
     ]
    }
   ],
   "source": [
    "X_var = StandardScaler().fit(X_var).transform(X_var.astype(float))\n",
    "print(cl(X_var[:5],attrs=['bold']))"
   ]
  },
  {
   "cell_type": "code",
   "execution_count": 54,
   "id": "6be3c043",
   "metadata": {},
   "outputs": [
    {
     "name": "stdout",
     "output_type": "stream",
     "text": [
      "\u001b[1mTrain set shape :\u001b[0m (26, 4) (26,)\n",
      "\u001b[1mTest set shape :\u001b[0m (5, 4) (5,)\n"
     ]
    }
   ],
   "source": [
    "X_train, X_test, y_train, y_test = train_test_split(X_var, y_var, test_size=0.15, random_state=4)\n",
    "print(cl('Train set shape :', attrs=['bold']), X_train.shape, y_train.shape)\n",
    "print(cl('Test set shape :', attrs=['bold']), X_test.shape, y_test.shape)"
   ]
  },
  {
   "cell_type": "markdown",
   "id": "93e534d5",
   "metadata": {},
   "source": [
    "After the accuracy curve, we find the best n_neighbors is 3, here is the training."
   ]
  },
  {
   "cell_type": "code",
   "execution_count": 55,
   "id": "774155ee",
   "metadata": {},
   "outputs": [
    {
     "name": "stdout",
     "output_type": "stream",
     "text": [
      "\u001b[1mKNeighborsClassifier(n_neighbors=3)\u001b[0m\n"
     ]
    }
   ],
   "source": [
    "k = 3\n",
    "clf= KNeighborsClassifier(n_neighbors=k)\n",
    "clf.fit(X_train,y_train)\n",
    "print(cl(clf, attrs=['bold']))"
   ]
  },
  {
   "cell_type": "code",
   "execution_count": 56,
   "id": "992514ff",
   "metadata": {},
   "outputs": [
    {
     "name": "stdout",
     "output_type": "stream",
     "text": [
      "\u001b[1mPrediction Accuracy Score (%) :\u001b[0m 80.0\n"
     ]
    }
   ],
   "source": [
    "yhat = clf.predict(X_test)\n",
    "print(cl('Prediction Accuracy Score (%) :', attrs=['bold']), round(accuracy_score(y_test, yhat)*100, 2))"
   ]
  },
  {
   "cell_type": "code",
   "execution_count": 57,
   "id": "12deb4d2",
   "metadata": {},
   "outputs": [
    {
     "data": {
      "image/png": "[encoded data removed]",
      "text/plain": [
       "<Figure size 1080x504 with 1 Axes>"
      ]
     },
     "metadata": {
      "needs_background": "light"
     },
     "output_type": "display_data"
    }
   ],
   "source": [
    "wcss=[]\n",
    "for i in range(1,7):\n",
    "    k = i\n",
    "    clf= KNeighborsClassifier(n_neighbors=k)\n",
    "    clf.fit(X_train,y_train)\n",
    "    yhat = clf.predict(X_test)\n",
    "    wcss.append(round(accuracy_score(y_test, yhat)*100, 2))\n",
    "    \n",
    "#Visualizing the ELBOW method to get the optimal value of K \n",
    "plt.plot(range(1,7), wcss)\n",
    "plt.title('The Accuracy Curve')\n",
    "plt.xlabel('n_neighbors')\n",
    "plt.ylabel('Accuracy')\n",
    "plt.show()"
   ]
  },
  {
   "cell_type": "markdown",
   "id": "0c387579",
   "metadata": {},
   "source": [
    "From what we have found, under such a model, n_neighbors = 3 would receive best prediction results."
   ]
  },
  {
   "cell_type": "markdown",
   "id": "1406af4d",
   "metadata": {},
   "source": [
    "##### The last model is multiple Linear Regression"
   ]
  },
  {
   "cell_type": "code",
   "execution_count": 58,
   "id": "d89b10cb",
   "metadata": {},
   "outputs": [
    {
     "data": {
      "text/html": [
       "<div>\n",
       "<style scoped>\n",
       "    .dataframe tbody tr th:only-of-type {\n",
       "        vertical-align: middle;\n",
       "    }\n",
       "\n",
       "    .dataframe tbody tr th {\n",
       "        vertical-align: top;\n",
       "    }\n",
       "\n",
       "    .dataframe thead th {\n",
       "        text-align: right;\n",
       "    }\n",
       "</style>\n",
       "<table border=\"1\" class=\"dataframe\">\n",
       "  <thead>\n",
       "    <tr style=\"text-align: right;\">\n",
       "      <th></th>\n",
       "      <th>Region</th>\n",
       "      <th>Indices of Gross Output (preceding year=100)</th>\n",
       "      <th>Farming.1</th>\n",
       "      <th>Forestry.1</th>\n",
       "      <th>Animal Husbandry.1</th>\n",
       "      <th>Fishery.1</th>\n",
       "    </tr>\n",
       "  </thead>\n",
       "  <tbody>\n",
       "    <tr>\n",
       "      <th>0</th>\n",
       "      <td>1</td>\n",
       "      <td>93.7</td>\n",
       "      <td>89.2</td>\n",
       "      <td>121.6</td>\n",
       "      <td>63.5</td>\n",
       "      <td>86.2</td>\n",
       "    </tr>\n",
       "    <tr>\n",
       "      <th>1</th>\n",
       "      <td>1</td>\n",
       "      <td>100.6</td>\n",
       "      <td>103.2</td>\n",
       "      <td>195.8</td>\n",
       "      <td>83.5</td>\n",
       "      <td>97.9</td>\n",
       "    </tr>\n",
       "    <tr>\n",
       "      <th>2</th>\n",
       "      <td>1</td>\n",
       "      <td>101.9</td>\n",
       "      <td>101.7</td>\n",
       "      <td>104.8</td>\n",
       "      <td>100.4</td>\n",
       "      <td>100.6</td>\n",
       "    </tr>\n",
       "    <tr>\n",
       "      <th>3</th>\n",
       "      <td>1</td>\n",
       "      <td>102.0</td>\n",
       "      <td>102.5</td>\n",
       "      <td>102.2</td>\n",
       "      <td>100.7</td>\n",
       "      <td>100.2</td>\n",
       "    </tr>\n",
       "    <tr>\n",
       "      <th>4</th>\n",
       "      <td>1</td>\n",
       "      <td>102.1</td>\n",
       "      <td>103.4</td>\n",
       "      <td>101.0</td>\n",
       "      <td>100.9</td>\n",
       "      <td>93.3</td>\n",
       "    </tr>\n",
       "  </tbody>\n",
       "</table>\n",
       "</div>"
      ],
      "text/plain": [
       "   Region  Indices of Gross Output (preceding year=100)  Farming.1  \\\n",
       "0       1                                          93.7       89.2   \n",
       "1       1                                         100.6      103.2   \n",
       "2       1                                         101.9      101.7   \n",
       "3       1                                         102.0      102.5   \n",
       "4       1                                         102.1      103.4   \n",
       "\n",
       "   Forestry.1  Animal Husbandry.1  Fishery.1  \n",
       "0       121.6                63.5       86.2  \n",
       "1       195.8                83.5       97.9  \n",
       "2       104.8               100.4      100.6  \n",
       "3       102.2               100.7      100.2  \n",
       "4       101.0               100.9       93.3  "
      ]
     },
     "execution_count": 58,
     "metadata": {},
     "output_type": "execute_result"
    }
   ],
   "source": [
    "df_original_c7 = df_original_c6.copy(deep=True)\n",
    "df_original_c6.head(5)"
   ]
  },
  {
   "cell_type": "code",
   "execution_count": 59,
   "id": "9f65a48f",
   "metadata": {},
   "outputs": [
    {
     "name": "stdout",
     "output_type": "stream",
     "text": [
      "\u001b[1mX variable: \n",
      "\u001b[0m [[ 89.2 121.6  63.5  86.2]\n",
      " [103.2 195.8  83.5  97.9]\n",
      " [101.7 104.8 100.4 100.6]\n",
      " [102.5 102.2 100.7 100.2]\n",
      " [103.4 101.  100.9  93.3]]\n",
      "\u001b[1my variable: \n",
      "\u001b[0m [1 1 1 1 1]\n"
     ]
    }
   ],
   "source": [
    "# Get features and classes\n",
    "X_MLR = df_original_c5[['Farming.1','Forestry.1','Animal Husbandry.1','Fishery.1']].values\n",
    "y_MLR = df_original_c5['Region'].values\n",
    "\n",
    "print(cl('X variable: \\n', attrs=['bold']), X_MLR[:5])\n",
    "print(cl('y variable: \\n', attrs=['bold']), y_MLR[:5])"
   ]
  },
  {
   "cell_type": "markdown",
   "id": "f4293a2f",
   "metadata": {},
   "source": [
    "Training the model with last four columns as features."
   ]
  },
  {
   "cell_type": "code",
   "execution_count": 60,
   "id": "2079e729",
   "metadata": {},
   "outputs": [
    {
     "data": {
      "text/plain": [
       "LinearRegression()"
      ]
     },
     "execution_count": 60,
     "metadata": {},
     "output_type": "execute_result"
    }
   ],
   "source": [
    "Linear_regress = LinearRegression()\n",
    "Linear_regress.fit(X_MLR, y_MLR)"
   ]
  },
  {
   "cell_type": "code",
   "execution_count": 61,
   "id": "92b4b0d5",
   "metadata": {},
   "outputs": [
    {
     "data": {
      "text/plain": [
       "array([0.63758107, 2.72786926, 2.99264178, 3.19251401, 3.25553962,\n",
       "       4.19242049, 4.07184988, 3.21273198, 1.25661788, 3.45742935,\n",
       "       3.42690057, 3.52360682, 3.62085732, 3.53389045, 3.3461215 ,\n",
       "       4.17748801, 3.687678  , 3.61788636, 4.18954841, 4.55480394,\n",
       "       4.05007734, 4.05409729, 4.10733226, 4.71432963, 4.71263407,\n",
       "       3.89810465, 4.23615555, 4.02727624, 3.66847289, 3.24569939,\n",
       "       3.609844  ])"
      ]
     },
     "execution_count": 61,
     "metadata": {},
     "output_type": "execute_result"
    }
   ],
   "source": [
    "y_pred = Linear_regress.predict(X_MLR)\n",
    "y_pred"
   ]
  },
  {
   "cell_type": "code",
   "execution_count": 62,
   "id": "251d87fc",
   "metadata": {},
   "outputs": [
    {
     "data": {
      "text/plain": [
       "12.170984981727194"
      ]
     },
     "execution_count": 62,
     "metadata": {},
     "output_type": "execute_result"
    }
   ],
   "source": [
    "mean_squared_error(y, y_pred)"
   ]
  },
  {
   "cell_type": "markdown",
   "id": "55037f7e",
   "metadata": {},
   "source": [
    "Add column Indices of Gross Output (preceding year=100)"
   ]
  },
  {
   "cell_type": "code",
   "execution_count": 63,
   "id": "349acb87",
   "metadata": {},
   "outputs": [
    {
     "name": "stdout",
     "output_type": "stream",
     "text": [
      "\u001b[1mX variable: \n",
      "\u001b[0m [[ 93.7  89.2 121.6  63.5  86.2]\n",
      " [100.6 103.2 195.8  83.5  97.9]\n",
      " [101.9 101.7 104.8 100.4 100.6]\n",
      " [102.  102.5 102.2 100.7 100.2]\n",
      " [102.1 103.4 101.  100.9  93.3]]\n",
      "\u001b[1my variable: \n",
      "\u001b[0m [1 1 1 1 1]\n"
     ]
    }
   ],
   "source": [
    "# Get features and classes\n",
    "X_MLR = df_original_c5[['Indices of Gross Output (preceding year=100)', 'Farming.1','Forestry.1','Animal Husbandry.1','Fishery.1']].values\n",
    "y_MLR = df_original_c5['Region'].values\n",
    "\n",
    "print(cl('X variable: \\n', attrs=['bold']), X_MLR[:5])\n",
    "print(cl('y variable: \\n', attrs=['bold']), y_MLR[:5])"
   ]
  },
  {
   "cell_type": "markdown",
   "id": "83cb3bb1",
   "metadata": {},
   "source": [
    "Add column Indices of Gross Output (preceding year=100)"
   ]
  },
  {
   "cell_type": "code",
   "execution_count": 64,
   "id": "3404abca",
   "metadata": {},
   "outputs": [
    {
     "data": {
      "text/plain": [
       "LinearRegression()"
      ]
     },
     "execution_count": 64,
     "metadata": {},
     "output_type": "execute_result"
    }
   ],
   "source": [
    "Linear_regress = LinearRegression()\n",
    "Linear_regress.fit(X_MLR, y_MLR)"
   ]
  },
  {
   "cell_type": "code",
   "execution_count": 65,
   "id": "2c1c651d",
   "metadata": {},
   "outputs": [
    {
     "data": {
      "text/plain": [
       "array([1.77140286, 2.32606446, 2.99859364, 3.04832604, 2.9391889 ,\n",
       "       3.80042816, 3.43576042, 3.2325876 , 0.30544444, 3.08472048,\n",
       "       3.53653847, 3.42980559, 3.86074662, 3.48791431, 2.76435369,\n",
       "       4.15422764, 4.06634298, 3.85199968, 4.25956823, 4.76427718,\n",
       "       3.84834816, 3.89272423, 3.74708151, 5.06086309, 4.70728528,\n",
       "       4.9313827 , 4.42830776, 4.44278109, 3.99345717, 3.16346739,\n",
       "       3.66601024])"
      ]
     },
     "execution_count": 65,
     "metadata": {},
     "output_type": "execute_result"
    }
   ],
   "source": [
    "y_pred = Linear_regress.predict(X_MLR)\n",
    "y_pred"
   ]
  },
  {
   "cell_type": "code",
   "execution_count": 66,
   "id": "e276ee9b",
   "metadata": {},
   "outputs": [
    {
     "data": {
      "text/plain": [
       "12.349889891875588"
      ]
     },
     "execution_count": 66,
     "metadata": {},
     "output_type": "execute_result"
    }
   ],
   "source": [
    "mean_squared_error(y, y_pred)"
   ]
  },
  {
   "cell_type": "markdown",
   "id": "fd12a305",
   "metadata": {},
   "source": [
    "Mean squared error： Mean square deviation is the average of the sum of the squares of the distances from the true value of each data.The smaller, the better. \n",
    "\n",
    "It is clear that MSE is similar and smaller when we dump Indices of Gross Output (preceding year=100), it means two high relavant variable will silghtly influence the model prediction."
   ]
  },
  {
   "cell_type": "markdown",
   "id": "0e6548b8",
   "metadata": {},
   "source": [
    "### Model Comparison\n"
   ]
  },
  {
   "cell_type": "markdown",
   "id": "4a0a0935",
   "metadata": {},
   "source": [
    "From What we have discussed above, we may find that ...."
   ]
  },
  {
   "cell_type": "markdown",
   "id": "c7571073",
   "metadata": {},
   "source": [
    "### Modeling after dimension reduction (Principal Component Analysis)\n",
    "Applying PCA to do the dimension reduction and then do the prediction & visualization"
   ]
  },
  {
   "cell_type": "code",
   "execution_count": 67,
   "id": "d337631e",
   "metadata": {},
   "outputs": [
    {
     "data": {
      "text/html": [
       "<div>\n",
       "<style scoped>\n",
       "    .dataframe tbody tr th:only-of-type {\n",
       "        vertical-align: middle;\n",
       "    }\n",
       "\n",
       "    .dataframe tbody tr th {\n",
       "        vertical-align: top;\n",
       "    }\n",
       "\n",
       "    .dataframe thead th {\n",
       "        text-align: right;\n",
       "    }\n",
       "</style>\n",
       "<table border=\"1\" class=\"dataframe\">\n",
       "  <thead>\n",
       "    <tr style=\"text-align: right;\">\n",
       "      <th></th>\n",
       "      <th>Region</th>\n",
       "      <th>Indices of Gross Output (preceding year=100)</th>\n",
       "      <th>Farming.1</th>\n",
       "      <th>Forestry.1</th>\n",
       "      <th>Animal Husbandry.1</th>\n",
       "      <th>Fishery.1</th>\n",
       "    </tr>\n",
       "  </thead>\n",
       "  <tbody>\n",
       "    <tr>\n",
       "      <th>0</th>\n",
       "      <td>1</td>\n",
       "      <td>93.7</td>\n",
       "      <td>89.2</td>\n",
       "      <td>121.6</td>\n",
       "      <td>63.5</td>\n",
       "      <td>86.2</td>\n",
       "    </tr>\n",
       "    <tr>\n",
       "      <th>1</th>\n",
       "      <td>1</td>\n",
       "      <td>100.6</td>\n",
       "      <td>103.2</td>\n",
       "      <td>195.8</td>\n",
       "      <td>83.5</td>\n",
       "      <td>97.9</td>\n",
       "    </tr>\n",
       "    <tr>\n",
       "      <th>2</th>\n",
       "      <td>1</td>\n",
       "      <td>101.9</td>\n",
       "      <td>101.7</td>\n",
       "      <td>104.8</td>\n",
       "      <td>100.4</td>\n",
       "      <td>100.6</td>\n",
       "    </tr>\n",
       "    <tr>\n",
       "      <th>3</th>\n",
       "      <td>1</td>\n",
       "      <td>102.0</td>\n",
       "      <td>102.5</td>\n",
       "      <td>102.2</td>\n",
       "      <td>100.7</td>\n",
       "      <td>100.2</td>\n",
       "    </tr>\n",
       "    <tr>\n",
       "      <th>4</th>\n",
       "      <td>1</td>\n",
       "      <td>102.1</td>\n",
       "      <td>103.4</td>\n",
       "      <td>101.0</td>\n",
       "      <td>100.9</td>\n",
       "      <td>93.3</td>\n",
       "    </tr>\n",
       "  </tbody>\n",
       "</table>\n",
       "</div>"
      ],
      "text/plain": [
       "   Region  Indices of Gross Output (preceding year=100)  Farming.1  \\\n",
       "0       1                                          93.7       89.2   \n",
       "1       1                                         100.6      103.2   \n",
       "2       1                                         101.9      101.7   \n",
       "3       1                                         102.0      102.5   \n",
       "4       1                                         102.1      103.4   \n",
       "\n",
       "   Forestry.1  Animal Husbandry.1  Fishery.1  \n",
       "0       121.6                63.5       86.2  \n",
       "1       195.8                83.5       97.9  \n",
       "2       104.8               100.4      100.6  \n",
       "3       102.2               100.7      100.2  \n",
       "4       101.0               100.9       93.3  "
      ]
     },
     "execution_count": 67,
     "metadata": {},
     "output_type": "execute_result"
    }
   ],
   "source": [
    "df_original_c7.head(5) "
   ]
  },
  {
   "cell_type": "code",
   "execution_count": 68,
   "id": "ed582338",
   "metadata": {},
   "outputs": [
    {
     "name": "stdout",
     "output_type": "stream",
     "text": [
      "Explained variance ratio before PCA: [0.78188467 0.16853403 0.03953836 0.01004294]\n",
      "Explained variance before PCA: [321.95416276  69.39671918  16.28058561   4.13534966]\n"
     ]
    }
   ],
   "source": [
    "X = df_original_c7.iloc[:,2:6]\n",
    "# First check the variance without dimension reduction\n",
    "pca = PCA(n_components=4)\n",
    "pca.fit(X)\n",
    "print('Explained variance ratio before PCA:', pca.explained_variance_ratio_)\n",
    "print('Explained variance before PCA:', pca.explained_variance_)"
   ]
  },
  {
   "cell_type": "markdown",
   "id": "4db8eec3",
   "metadata": {},
   "source": [
    "We can see thre ratio of explained variance: "
   ]
  },
  {
   "cell_type": "code",
   "execution_count": 69,
   "id": "36cc848e",
   "metadata": {},
   "outputs": [
    {
     "name": "stdout",
     "output_type": "stream",
     "text": [
      "At least 95% are principal components: \n",
      "[0.78188467 0.16853403]\n",
      "[321.95416276  69.39671918]\n",
      "2\n"
     ]
    }
   ],
   "source": [
    "# specify principal components at least take 95%\n",
    "pca = PCA(n_components=0.95)\n",
    "pca.fit(X)\n",
    "print(\"At least 95% are principal components: \")\n",
    "print(pca.explained_variance_ratio_)\n",
    "print(pca.explained_variance_)\n",
    "print(pca.n_components_)"
   ]
  },
  {
   "cell_type": "code",
   "execution_count": 70,
   "id": "f86a4455",
   "metadata": {},
   "outputs": [
    {
     "name": "stdout",
     "output_type": "stream",
     "text": [
      "At least 99% are principal components: \n",
      "[0.78188467 0.16853403 0.03953836 0.01004294]\n",
      "[321.95416276  69.39671918  16.28058561   4.13534966]\n",
      "4\n"
     ]
    }
   ],
   "source": [
    "# specify principal components at least take 99%\n",
    "pca = PCA(n_components=0.99)\n",
    "pca.fit(X)\n",
    "print(\"At least 99% are principal components: \")\n",
    "print(pca.explained_variance_ratio_)\n",
    "print(pca.explained_variance_)\n",
    "print(pca.n_components_)"
   ]
  },
  {
   "cell_type": "code",
   "execution_count": 71,
   "id": "e67cd421",
   "metadata": {},
   "outputs": [
    {
     "name": "stdout",
     "output_type": "stream",
     "text": [
      "Let MLE algorithm choose the dimension: \n",
      "[0.78188467 0.16853403 0.03953836]\n",
      "[321.95416276  69.39671918  16.28058561]\n",
      "3\n"
     ]
    }
   ],
   "source": [
    "# Let MLE algorithm choose the dimension\n",
    "pca = PCA(n_components='mle')\n",
    "pca.fit(X)\n",
    "print(\"Let MLE algorithm choose the dimension: \")\n",
    "print(pca.explained_variance_ratio_)\n",
    "print(pca.explained_variance_)\n",
    "print(pca.n_components_)"
   ]
  },
  {
   "cell_type": "code",
   "execution_count": 72,
   "id": "39d2833e",
   "metadata": {},
   "outputs": [
    {
     "name": "stdout",
     "output_type": "stream",
     "text": [
      "Explained variance ratio after PCA to two dimensions: [0.78188467 0.16853403]\n",
      "Explained variance after PCA to two dimensions: [321.95416276  69.39671918]\n"
     ]
    },
    {
     "data": {
      "image/png": "[encoded data removed]",
      "text/plain": [
       "<Figure size 1080x504 with 1 Axes>"
      ]
     },
     "metadata": {
      "needs_background": "light"
     },
     "output_type": "display_data"
    }
   ],
   "source": [
    "# If we reduce to two dimensions to see its visualization\n",
    "pca = PCA(n_components=2)\n",
    "pca.fit(X)\n",
    "print('Explained variance ratio after PCA to two dimensions:', pca.explained_variance_ratio_)\n",
    "print('Explained variance after PCA to two dimensions:', pca.explained_variance_)\n",
    "X_2D = pca.transform(X)\n",
    "plt.scatter(X_2D[:, 0], X_2D[:, 1], marker='o')\n",
    "plt.show()"
   ]
  },
  {
   "cell_type": "code",
   "execution_count": 73,
   "id": "a30743ec",
   "metadata": {},
   "outputs": [
    {
     "name": "stdout",
     "output_type": "stream",
     "text": [
      "Explained variance ratio after PCA to three dimensions: [0.78188467 0.16853403 0.03953836]\n",
      "Explained variance after PCA to three dimensions: [321.95416276  69.39671918  16.28058561]\n"
     ]
    }
   ],
   "source": [
    "# If we reduce to three dimensions to see its visualization\n",
    "pca = PCA(n_components=3)\n",
    "pca.fit(X)\n",
    "print('Explained variance ratio after PCA to three dimensions:', pca.explained_variance_ratio_)\n",
    "print('Explained variance after PCA to three dimensions:', pca.explained_variance_)\n",
    "X = X.values"
   ]
  },
  {
   "cell_type": "code",
   "execution_count": 74,
   "id": "f8606bde",
   "metadata": {},
   "outputs": [
    {
     "name": "stderr",
     "output_type": "stream",
     "text": [
      "<ipython-input-74-1294993a219f>:2: MatplotlibDeprecationWarning: Axes3D(fig) adding itself to the figure is deprecated since 3.4. Pass the keyword argument auto_add_to_figure=False and use fig.add_axes(ax) to suppress this warning. The default value of auto_add_to_figure will change to False in mpl3.5 and True values will no longer work in 3.6.  This is consistent with other Axes classes.\n",
      "  ax = Axes3D(fig, rect=[0, 0, 1, 1], elev=30, azim=20)\n"
     ]
    },
    {
     "data": {
      "text/plain": [
       "<mpl_toolkits.mplot3d.art3d.Path3DCollection at 0x22101441e80>"
      ]
     },
     "execution_count": 74,
     "metadata": {},
     "output_type": "execute_result"
    },
    {
     "data": {
      "image/png": "[encoded data removed]",
      "text/plain": [
       "<Figure size 1080x504 with 1 Axes>"
      ]
     },
     "metadata": {
      "needs_background": "light"
     },
     "output_type": "display_data"
    }
   ],
   "source": [
    "fig = plt.figure()\n",
    "ax = Axes3D(fig, rect=[0, 0, 1, 1], elev=30, azim=20)\n",
    "plt.scatter(X[:, 0], X[:, 1], X[:, 2],marker='o')"
   ]
  },
  {
   "cell_type": "markdown",
   "id": "03b0918c",
   "metadata": {},
   "source": [
    "All the figure basically fit the analysis, there are three groups in the three dimensions, and two groups in two dimensions. \n",
    "\n",
    "The result why one group is dominated might beacuse explained variance ratio of the firts principal component is dominant."
   ]
  },
  {
   "cell_type": "markdown",
   "id": "94b0cac8",
   "metadata": {},
   "source": [
    "Prediction with reduced dimensions using K-Nearest Neighbor algorithm, to see if the arruracy score will improve."
   ]
  },
  {
   "cell_type": "code",
   "execution_count": 75,
   "id": "33b024ee",
   "metadata": {},
   "outputs": [],
   "source": [
    "# Let MLE algorithm choose the dimension\n",
    "pca = PCA(n_components='mle')\n",
    "pca.fit(X)\n",
    "X_p = pca.fit_transform(X)  # reduce dimension to get X\n",
    "y = df_original_c7[['Region']].values  # Get y ready\n",
    "X_p = StandardScaler().fit(X_p).transform(X_p.astype(float)) # Standarize X\n",
    "X_train, X_test, y_train, y_test = train_test_split(X_p, y, test_size=0.16, random_state=4)"
   ]
  },
  {
   "cell_type": "code",
   "execution_count": 76,
   "id": "c73ab226",
   "metadata": {},
   "outputs": [
    {
     "name": "stderr",
     "output_type": "stream",
     "text": [
      "e:\\python projects\\trial peoject\\venv\\lib\\site-packages\\sklearn\\neighbors\\_classification.py:179: DataConversionWarning: A column-vector y was passed when a 1d array was expected. Please change the shape of y to (n_samples,), for example using ravel().\n",
      "  return self._fit(X, y)\n",
      "e:\\python projects\\trial peoject\\venv\\lib\\site-packages\\sklearn\\neighbors\\_classification.py:179: DataConversionWarning: A column-vector y was passed when a 1d array was expected. Please change the shape of y to (n_samples,), for example using ravel().\n",
      "  return self._fit(X, y)\n",
      "e:\\python projects\\trial peoject\\venv\\lib\\site-packages\\sklearn\\neighbors\\_classification.py:179: DataConversionWarning: A column-vector y was passed when a 1d array was expected. Please change the shape of y to (n_samples,), for example using ravel().\n",
      "  return self._fit(X, y)\n",
      "e:\\python projects\\trial peoject\\venv\\lib\\site-packages\\sklearn\\neighbors\\_classification.py:179: DataConversionWarning: A column-vector y was passed when a 1d array was expected. Please change the shape of y to (n_samples,), for example using ravel().\n",
      "  return self._fit(X, y)\n",
      "e:\\python projects\\trial peoject\\venv\\lib\\site-packages\\sklearn\\neighbors\\_classification.py:179: DataConversionWarning: A column-vector y was passed when a 1d array was expected. Please change the shape of y to (n_samples,), for example using ravel().\n",
      "  return self._fit(X, y)\n",
      "e:\\python projects\\trial peoject\\venv\\lib\\site-packages\\sklearn\\neighbors\\_classification.py:179: DataConversionWarning: A column-vector y was passed when a 1d array was expected. Please change the shape of y to (n_samples,), for example using ravel().\n",
      "  return self._fit(X, y)\n"
     ]
    },
    {
     "data": {
      "image/png": "[encoded data removed]",
      "text/plain": [
       "<Figure size 1080x504 with 1 Axes>"
      ]
     },
     "metadata": {
      "needs_background": "light"
     },
     "output_type": "display_data"
    }
   ],
   "source": [
    "wcss=[]\n",
    "for i in range(1,7):\n",
    "    k = i\n",
    "    clf= KNeighborsClassifier(n_neighbors=k)\n",
    "    clf.fit(X_train,y_train)\n",
    "    yhat = clf.predict(X_test)\n",
    "    wcss.append(round(accuracy_score(y_test, yhat)*100, 2))\n",
    "    \n",
    "#Visualizing the ELBOW method to get the optimal value of K \n",
    "plt.plot(range(1,7), wcss)\n",
    "plt.title('The Accuracy Curve')\n",
    "plt.xlabel('n_neighbors')\n",
    "plt.ylabel('Accuracy')\n",
    "plt.show()"
   ]
  },
  {
   "attachments": {},
   "cell_type": "markdown",
   "id": "e93a74b0",
   "metadata": {},
   "source": [
    "Area with Soil Erosion under Control"
   ]
  },
  {
   "cell_type": "markdown",
   "id": "445b16ee",
   "metadata": {},
   "source": [
    "### Improvement"
   ]
  }
 ],
 "metadata": {
  "kernelspec": {
   "display_name": "Python 3",
   "language": "python",
   "name": "python3"
  },
  "language_info": {
   "codemirror_mode": {
    "name": "ipython",
    "version": 3
   },
   "file_extension": ".py",
   "mimetype": "text/x-python",
   "name": "python",
   "nbconvert_exporter": "python",
   "pygments_lexer": "ipython3",
   "version": "3.8.7"
  }
 },
 "nbformat": 4,
 "nbformat_minor": 5
}

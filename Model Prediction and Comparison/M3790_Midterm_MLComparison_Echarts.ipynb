{
 "cells": [
  {
   "cell_type": "code",
   "execution_count": 1,
   "id": "461bdee9",
   "metadata": {},
   "outputs": [],
   "source": [
    "from pyecharts import Map\n",
    "from pyecharts import Bar\n",
    "from pyecharts import Polar\n",
    "import pandas as pd\n",
    "import operator\n",
    "from functools import reduce\n",
    "import numpy as np"
   ]
  },
  {
   "cell_type": "code",
   "execution_count": 8,
   "id": "bbda0888",
   "metadata": {},
   "outputs": [],
   "source": [
    "attr = [\"SVM\", \"DT\", \"KNN\", \"Multi-LR\", \"Random Forest\"]\n",
    "v1 = [0.790, 0.789, 0.790, 0.559, 0.784]\n",
    "v2 = [0.790, 0.763, 0.790, 0.586, 0.826]\n",
    "\n",
    "bar = Bar(\"Dataset Comparison\")\n",
    "bar.add(\"Original Dataset\", attr, v1, mark_point=[\"min\", \"max\"])\n",
    "bar.add(\"Reduced Dataset\", attr, v2, mark_line=[\"min\", \"max\"])\n",
    "bar.render()"
   ]
  },
  {
   "cell_type": "code",
   "execution_count": 9,
   "id": "8ba983b4",
   "metadata": {},
   "outputs": [],
   "source": [
    "attr = [\"SVM\", \"DT\", \"KNN\", \"Multi-LR\", \"Random Forest\", \"Grey Model\"]\n",
    "v1 = [0.790, 0.789, 0.790, 0.586, 0.826, 0.889]\n",
    "\n",
    "bar = Bar(\"Best Accuracy Comparison\")\n",
    "bar.add(\"Best Accuracy\", attr, v1, mark_point=[\"min\", \"max\"])\n",
    "bar.render()"
   ]
  },
  {
   "cell_type": "code",
   "execution_count": null,
   "id": "5385b513",
   "metadata": {},
   "outputs": [],
   "source": []
  }
 ],
 "metadata": {
  "kernelspec": {
   "display_name": "Python 3",
   "language": "python",
   "name": "python3"
  },
  "language_info": {
   "codemirror_mode": {
    "name": "ipython",
    "version": 3
   },
   "file_extension": ".py",
   "mimetype": "text/x-python",
   "name": "python",
   "nbconvert_exporter": "python",
   "pygments_lexer": "ipython3",
   "version": "3.7.9"
  }
 },
 "nbformat": 4,
 "nbformat_minor": 5
}
